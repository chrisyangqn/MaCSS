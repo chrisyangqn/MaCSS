{
 "cells": [
  {
   "cell_type": "markdown",
   "metadata": {},
   "source": [
    "<div style=\"background-color: #002676; padding: 20px;\">\n",
    "<img src=\"https://macss.berkeley.edu/wp-content/uploads/2023/09/UCBMaCSS_Logo_2Color_Reverse_TaglineB.png\" alt=\"MaCSS\" width=\"300\">\n",
    "</div>\n",
    "\n",
    "# **Notebook 2:** Data Exploration\n",
    "\n",
    "[wdtmacss@berkeley.edu](mailto:wdtmacss@berkeley.edu)\\\n",
    "**Computational Social Science 1A**\\\n",
    "[Human Psychology and Social Technologies](https://classes.berkeley.edu/content/2024-fall-compss-214a-001-lec-001) \n",
    "Fall 2024\\\n",
    "UC Berkeley [Masters in Computational Social Science](https://macss.berkeley.edu/about/)\n",
    "\n",
    "**Week 3:** Exploring and understanding the dataset that accompanies the [McCabe et al (2024)](https://www.nature.com/articles/s41586-024-07524-8) study ([https://github.com/DiogoFerrari/replication-twitter-deplatforming](https://github.com/DiogoFerrari/replication-twitter-deplatforming)).\n",
    "\n",
    "👩🏾‍🔬🧑‍💻👩🏻‍💻👨🏿‍💻🔬\n",
    "\n",
    "---\n",
    "\n",
    "# Table of Contents\n",
    "1. [Notebook 2: Data Exploration](#notebook-2-data-exploration)\n",
    "2. [Announcements](#announcements)\n",
    "3. [Summary of Today's Class](#summary-of-todays-class)\n",
    "4. [Recap: The McCabe et al. Study & Dataset](#recap-the-mccabe-et-al-study-dataset)\n",
    "5. [An Introduction to the McCabe Dataset](#an-introduction-to-the-mccabe-dataset)\n",
    "     - [What are the variables?](#what-are-the-variables)\n",
    "     - [Formatting the date variable](#formatting-the-date-variable)\n",
    "     - [Inspecting groups in the data](#inspecting-groups-in-the-data)\n",
    "6. [Class Exercises](#class-exercises)\n",
    "   - [Exercise 1: Counting Users](#exercise-1-counting-users)\n",
    "     - [Example 1: How many Qanon users are there?](#example-1-how-many-qanon-users-are-there)\n",
    "     - [Challenge 1: How many Trump followers?](#challenge-1-how-many-trump-followers)\n",
    "   - [Exercise 2: Counting Tweets and Retweets](#exercise-2-counting-tweets-and-retweets)\n",
    "     - [Example 2: Counting Tweets by Qanon users over time](#example-2-counting-tweets-by-qanon-users-over-time)\n",
    "     - [Challenge 2: Examine posts over time by Trump followers](#challenge-2-examine-posts-over-time-by-trump-followers)\n",
    "   - [Exercise 3: Posts by Deplatformed Users](#exercise-3-posts-by-deplatformed-users)\n",
    "     - [Example 3: Plotting posts by suspended accounts](#example-3-plotting-posts-by-suspended-accounts)\n",
    "     - [Challenge 3: Examine posts by Deplatformed users](#challenge-3-examine-posts-by-deplatformed-users)\n",
    "   - [Bonus Exercise: Misinformation Sharing](#bonus-exercise-misinformation-sharing)\n",
    "     - [Bonus Example: Using Seaborn's FacetGrid to explore data](#bonus-example-using-seaborns-facetgrid-to-explore-data)\n",
    "     - [Bonus Challenge: Sharing patterns for regular information](#bonus-challenge-sharing-patterns-for-regular-information)\n",
    "\n",
    "\n",
    "---"
   ]
  },
  {
   "cell_type": "markdown",
   "metadata": {},
   "source": [
    "# Announcments\n",
    "*  Gradescope for this class now exists - you should have received an invite\n",
    "*  Python fundamentals -- how was the workshop? \n",
    "*  Assignment 2 -- more below\n",
    "*  Next week =  **difference in differences analysis**\n",
    "*  Questions?\n",
    "\n",
    "## Assignment 2 Preview\n",
    "You will write a short computational essay using Difference in Differences analysis to provide an answer to the question: \\\n",
    "*Did the deplatforming intervention reduce misinformation sharing on Twitter?* \n",
    "\n",
    "**Computational essay =** a jupyter notebook integrating code (python), data (the McCabe dataset), and analysis (regression) with narrative (markdown cells)  \n",
    "\n",
    "*  Your essay will read in the data, explore the structure of the dataset, and perform difference in difference analysis to examine the effects of the intervention.\n",
    "*  Your notebook should include code, results, and visuzaliations\n",
    "*  But it should also include simple narrative commentary explaining the analyses you are undertaking and the motivation\n",
    "*  You will end with a brief narrative conclusion providing your answer to the question above.\n",
    "*  Strong essays will include consideration of the limitations of the dataset and of the difference in differences analysis method, either verbal or integrating data.\n",
    "*  I will provide a notebook template for your to edit/fill in.\n",
    "\n",
    "I am hoping that this Assignment can be an exercise in writing a brief computational essay that you enjoy and feel proud of. Feel free to be creative and exploratory, and to include in your notebook any reflections on your limitations, such as analyses you would wish to perform but are unable to, or any key coding limitations that have limited your analyses.\n",
    "\n",
    "**I will circulate an assignment description and grading sheet next week** I may extend the deadline and/or add another lab session on DiD before the assingment is due depending on how people do in next week's lab. Ask me about the draft grading scheme."
   ]
  },
  {
   "cell_type": "markdown",
   "metadata": {},
   "source": [
    "# Summary of Today's Class\n",
    "The goal in this notebook is to get to know the dataset that was publicly released along with the McCabe et al study, before we begin to analyze the dataset next week. \n",
    "\n",
    "**Today we will:** \n",
    "*  Recap the McCabe et al. (2024) study\n",
    "*  Work through the key variables in the dataset togethor as a class\n",
    "*  Work through three exercises in data exploration individually.\n",
    "\n",
    "Today's programming exercises are designed to help you get to know the dataset a little better. The excersises involve summarising and plotting the data under a range of different distinctions relating to groups of users, time windows, and categories of misinformation.   \n",
    "\n",
    "**Functionality we will cover today:**\n",
    "*   Loading in a dataset from a csv into a [Pandas DataFrame](https://pandas.pydata.org/docs/reference/api/pandas.DataFrame.html)\n",
    "*   Accessing, subsetting, and summarising data in a Pandas DataFrame\n",
    "*   Using Pandas `datetime` objetcs and methods to extract data from a Pandas DataFrame within a specific time window\n",
    "*   Time series plotting with [Matplotlib](https://matplotlib.org/)\n",
    "    * line plots, bar plots\n",
    "    * using color and opacity to overlay multiple sources of data\n",
    "    * Manipulating the shape of a figure\n",
    "    * Drawing vertical lines with different styles"
   ]
  },
  {
   "cell_type": "markdown",
   "metadata": {},
   "source": [
    "# Recap: The McCabe et al. Study & Dataset\n",
    "\n",
    "**Twitter Deplatformed 70,000 Accounts to curb misinformation** Did it work?\n",
    "\n",
    "From last week:\n",
    "\n",
    "> In 2021, Twitter undertook a highly unusual intervention designed to counteract the spread of misinformation during a critical political event. Under normal circumstances, the effects of social media algorithms on information spread are very difficult to detect. This intervention was unusual because the number of deplatformed users was large, they belonged to a specific group, and the timing was made publicly known. A team of social media researchers examined the effects of this intervention, and published their findings in the world's most prestigous scientific journal.\n",
    "\n",
    "**Questions we dicussed last week**\n",
    "*  What does depltforming mean in this context?\n",
    "*  Who were the people included in the dataset?\n",
    "*  What do we know about the people who were deplatformed?\n",
    "*  What is the timeline of relevant events?\n",
    "*  What are the main objectives of the research?\n",
    "*  What are the key analyses used?\n",
    "*  What are the major conclusions?\n",
    "\n"
   ]
  },
  {
   "cell_type": "markdown",
   "metadata": {
    "id": "N2oIPAuXzgUN"
   },
   "source": [
    "---\n",
    "# An Introduction to the McCabe Dataset\n",
    "\n",
    "Before doing individual exercises, we will investigate the variables in the datset togethor. We will perform some simple summaries and data vizualizations to get to know what's in there.\n",
    "\n",
    "*   First, we will load in the dataset into a Pandas `Dataframe` and talk through the variables.\n",
    "*   Second, we will:\n",
    "     *   format the date variable\n",
    "     *   examine the different groups of users"
   ]
  },
  {
   "cell_type": "code",
   "execution_count": 1,
   "metadata": {
    "id": "KIyW-dRvclsG"
   },
   "outputs": [],
   "source": [
    "import pandas as pd\n",
    "import matplotlib.pyplot as plt # Matplotlib is the de facto standard plotting library in Python"
   ]
  },
  {
   "cell_type": "code",
   "execution_count": 25,
   "metadata": {
    "id": "IUK648OByOI6"
   },
   "outputs": [],
   "source": [
    "df = pd.read_csv('mccabe-2020-data.csv')"
   ]
  },
  {
   "cell_type": "code",
   "execution_count": 26,
   "metadata": {
    "colab": {
     "base_uri": "https://localhost:8080/"
    },
    "executionInfo": {
     "elapsed": 3,
     "status": "ok",
     "timestamp": 1721423167217,
     "user": {
      "displayName": "William D Thompson",
      "userId": "16532926386286142479"
     },
     "user_tz": 420
    },
    "id": "xV_3KuRI0HGL",
    "outputId": "0823d0ae-e4cd-4a09-eb66-020e1f559586"
   },
   "outputs": [
    {
     "data": {
      "text/plain": [
       "(32968, 29)"
      ]
     },
     "execution_count": 26,
     "metadata": {},
     "output_type": "execute_result"
    }
   ],
   "source": [
    "df.shape # (num rows, num columns)"
   ]
  },
  {
   "cell_type": "code",
   "execution_count": 43,
   "metadata": {},
   "outputs": [
    {
     "data": {
      "text/html": [
       "<div>\n",
       "<style scoped>\n",
       "    .dataframe tbody tr th:only-of-type {\n",
       "        vertical-align: middle;\n",
       "    }\n",
       "\n",
       "    .dataframe tbody tr th {\n",
       "        vertical-align: top;\n",
       "    }\n",
       "\n",
       "    .dataframe thead th {\n",
       "        text-align: right;\n",
       "    }\n",
       "</style>\n",
       "<table border=\"1\" class=\"dataframe\">\n",
       "  <thead>\n",
       "    <tr style=\"text-align: right;\">\n",
       "      <th></th>\n",
       "      <th>date</th>\n",
       "      <th>fake_merged</th>\n",
       "      <th>fake_merged_initiation</th>\n",
       "      <th>fake_merged_rt</th>\n",
       "      <th>fake_grinberg_initiation</th>\n",
       "      <th>fake_grinberg_rt</th>\n",
       "      <th>fake_grinberg_rb_initiation</th>\n",
       "      <th>fake_grinberg_rb_rt</th>\n",
       "      <th>fake_newsguard_initiation</th>\n",
       "      <th>fake_newsguard_rt</th>\n",
       "      <th>...</th>\n",
       "      <th>not_fake_shopping</th>\n",
       "      <th>not_fake_shopping_initiation</th>\n",
       "      <th>not_fake_shopping_rt</th>\n",
       "      <th>not_fake_sports</th>\n",
       "      <th>not_fake_sports_initiation</th>\n",
       "      <th>not_fake_sports_rt</th>\n",
       "      <th>n</th>\n",
       "      <th>stat</th>\n",
       "      <th>nusers</th>\n",
       "      <th>group</th>\n",
       "    </tr>\n",
       "  </thead>\n",
       "  <tbody>\n",
       "    <tr>\n",
       "      <th>0</th>\n",
       "      <td>2019-11-30</td>\n",
       "      <td>875.0</td>\n",
       "      <td>199.0</td>\n",
       "      <td>676.0</td>\n",
       "      <td>74.0</td>\n",
       "      <td>207.0</td>\n",
       "      <td>42.0</td>\n",
       "      <td>138.0</td>\n",
       "      <td>188.0</td>\n",
       "      <td>653.0</td>\n",
       "      <td>...</td>\n",
       "      <td>196.0</td>\n",
       "      <td>61.0</td>\n",
       "      <td>135.0</td>\n",
       "      <td>16.0</td>\n",
       "      <td>7.0</td>\n",
       "      <td>9.0</td>\n",
       "      <td>12387.0</td>\n",
       "      <td>total</td>\n",
       "      <td>4390</td>\n",
       "      <td>fns</td>\n",
       "    </tr>\n",
       "    <tr>\n",
       "      <th>1</th>\n",
       "      <td>2019-12-01</td>\n",
       "      <td>3382.0</td>\n",
       "      <td>825.0</td>\n",
       "      <td>2557.0</td>\n",
       "      <td>257.0</td>\n",
       "      <td>941.0</td>\n",
       "      <td>120.0</td>\n",
       "      <td>546.0</td>\n",
       "      <td>760.0</td>\n",
       "      <td>2293.0</td>\n",
       "      <td>...</td>\n",
       "      <td>608.0</td>\n",
       "      <td>207.0</td>\n",
       "      <td>401.0</td>\n",
       "      <td>99.0</td>\n",
       "      <td>33.0</td>\n",
       "      <td>66.0</td>\n",
       "      <td>54897.0</td>\n",
       "      <td>total</td>\n",
       "      <td>11629</td>\n",
       "      <td>fns</td>\n",
       "    </tr>\n",
       "    <tr>\n",
       "      <th>2</th>\n",
       "      <td>2019-12-02</td>\n",
       "      <td>3644.0</td>\n",
       "      <td>992.0</td>\n",
       "      <td>2652.0</td>\n",
       "      <td>280.0</td>\n",
       "      <td>780.0</td>\n",
       "      <td>141.0</td>\n",
       "      <td>479.0</td>\n",
       "      <td>926.0</td>\n",
       "      <td>2455.0</td>\n",
       "      <td>...</td>\n",
       "      <td>684.0</td>\n",
       "      <td>289.0</td>\n",
       "      <td>395.0</td>\n",
       "      <td>82.0</td>\n",
       "      <td>37.0</td>\n",
       "      <td>45.0</td>\n",
       "      <td>68505.0</td>\n",
       "      <td>total</td>\n",
       "      <td>13132</td>\n",
       "      <td>fns</td>\n",
       "    </tr>\n",
       "    <tr>\n",
       "      <th>3</th>\n",
       "      <td>2019-12-03</td>\n",
       "      <td>4184.0</td>\n",
       "      <td>1110.0</td>\n",
       "      <td>3074.0</td>\n",
       "      <td>339.0</td>\n",
       "      <td>921.0</td>\n",
       "      <td>185.0</td>\n",
       "      <td>562.0</td>\n",
       "      <td>1052.0</td>\n",
       "      <td>2890.0</td>\n",
       "      <td>...</td>\n",
       "      <td>782.0</td>\n",
       "      <td>236.0</td>\n",
       "      <td>546.0</td>\n",
       "      <td>92.0</td>\n",
       "      <td>41.0</td>\n",
       "      <td>51.0</td>\n",
       "      <td>74502.0</td>\n",
       "      <td>total</td>\n",
       "      <td>13997</td>\n",
       "      <td>fns</td>\n",
       "    </tr>\n",
       "    <tr>\n",
       "      <th>4</th>\n",
       "      <td>2019-12-04</td>\n",
       "      <td>4436.0</td>\n",
       "      <td>1100.0</td>\n",
       "      <td>3336.0</td>\n",
       "      <td>307.0</td>\n",
       "      <td>1171.0</td>\n",
       "      <td>135.0</td>\n",
       "      <td>540.0</td>\n",
       "      <td>1038.0</td>\n",
       "      <td>3146.0</td>\n",
       "      <td>...</td>\n",
       "      <td>540.0</td>\n",
       "      <td>261.0</td>\n",
       "      <td>279.0</td>\n",
       "      <td>124.0</td>\n",
       "      <td>53.0</td>\n",
       "      <td>71.0</td>\n",
       "      <td>71762.0</td>\n",
       "      <td>total</td>\n",
       "      <td>13967</td>\n",
       "      <td>fns</td>\n",
       "    </tr>\n",
       "    <tr>\n",
       "      <th>5</th>\n",
       "      <td>2019-12-05</td>\n",
       "      <td>4553.0</td>\n",
       "      <td>1143.0</td>\n",
       "      <td>3410.0</td>\n",
       "      <td>362.0</td>\n",
       "      <td>1225.0</td>\n",
       "      <td>179.0</td>\n",
       "      <td>591.0</td>\n",
       "      <td>1071.0</td>\n",
       "      <td>2955.0</td>\n",
       "      <td>...</td>\n",
       "      <td>497.0</td>\n",
       "      <td>220.0</td>\n",
       "      <td>277.0</td>\n",
       "      <td>106.0</td>\n",
       "      <td>30.0</td>\n",
       "      <td>76.0</td>\n",
       "      <td>73712.0</td>\n",
       "      <td>total</td>\n",
       "      <td>14213</td>\n",
       "      <td>fns</td>\n",
       "    </tr>\n",
       "    <tr>\n",
       "      <th>6</th>\n",
       "      <td>2019-12-06</td>\n",
       "      <td>4793.0</td>\n",
       "      <td>1161.0</td>\n",
       "      <td>3632.0</td>\n",
       "      <td>348.0</td>\n",
       "      <td>1369.0</td>\n",
       "      <td>191.0</td>\n",
       "      <td>746.0</td>\n",
       "      <td>1106.0</td>\n",
       "      <td>3420.0</td>\n",
       "      <td>...</td>\n",
       "      <td>554.0</td>\n",
       "      <td>278.0</td>\n",
       "      <td>276.0</td>\n",
       "      <td>105.0</td>\n",
       "      <td>48.0</td>\n",
       "      <td>57.0</td>\n",
       "      <td>71382.0</td>\n",
       "      <td>total</td>\n",
       "      <td>13862</td>\n",
       "      <td>fns</td>\n",
       "    </tr>\n",
       "    <tr>\n",
       "      <th>7</th>\n",
       "      <td>2019-12-07</td>\n",
       "      <td>3667.0</td>\n",
       "      <td>865.0</td>\n",
       "      <td>2802.0</td>\n",
       "      <td>253.0</td>\n",
       "      <td>891.0</td>\n",
       "      <td>118.0</td>\n",
       "      <td>503.0</td>\n",
       "      <td>821.0</td>\n",
       "      <td>2695.0</td>\n",
       "      <td>...</td>\n",
       "      <td>680.0</td>\n",
       "      <td>278.0</td>\n",
       "      <td>402.0</td>\n",
       "      <td>121.0</td>\n",
       "      <td>59.0</td>\n",
       "      <td>62.0</td>\n",
       "      <td>57632.0</td>\n",
       "      <td>total</td>\n",
       "      <td>12227</td>\n",
       "      <td>fns</td>\n",
       "    </tr>\n",
       "    <tr>\n",
       "      <th>8</th>\n",
       "      <td>2019-12-08</td>\n",
       "      <td>4032.0</td>\n",
       "      <td>926.0</td>\n",
       "      <td>3106.0</td>\n",
       "      <td>312.0</td>\n",
       "      <td>1067.0</td>\n",
       "      <td>181.0</td>\n",
       "      <td>491.0</td>\n",
       "      <td>873.0</td>\n",
       "      <td>2726.0</td>\n",
       "      <td>...</td>\n",
       "      <td>604.0</td>\n",
       "      <td>262.0</td>\n",
       "      <td>342.0</td>\n",
       "      <td>126.0</td>\n",
       "      <td>41.0</td>\n",
       "      <td>85.0</td>\n",
       "      <td>57830.0</td>\n",
       "      <td>total</td>\n",
       "      <td>12358</td>\n",
       "      <td>fns</td>\n",
       "    </tr>\n",
       "    <tr>\n",
       "      <th>9</th>\n",
       "      <td>2019-12-09</td>\n",
       "      <td>5052.0</td>\n",
       "      <td>1314.0</td>\n",
       "      <td>3738.0</td>\n",
       "      <td>423.0</td>\n",
       "      <td>1307.0</td>\n",
       "      <td>258.0</td>\n",
       "      <td>637.0</td>\n",
       "      <td>1250.0</td>\n",
       "      <td>3370.0</td>\n",
       "      <td>...</td>\n",
       "      <td>623.0</td>\n",
       "      <td>233.0</td>\n",
       "      <td>390.0</td>\n",
       "      <td>155.0</td>\n",
       "      <td>42.0</td>\n",
       "      <td>113.0</td>\n",
       "      <td>74561.0</td>\n",
       "      <td>total</td>\n",
       "      <td>13776</td>\n",
       "      <td>fns</td>\n",
       "    </tr>\n",
       "  </tbody>\n",
       "</table>\n",
       "<p>10 rows × 29 columns</p>\n",
       "</div>"
      ],
      "text/plain": [
       "        date  fake_merged  fake_merged_initiation  fake_merged_rt  \\\n",
       "0 2019-11-30        875.0                   199.0           676.0   \n",
       "1 2019-12-01       3382.0                   825.0          2557.0   \n",
       "2 2019-12-02       3644.0                   992.0          2652.0   \n",
       "3 2019-12-03       4184.0                  1110.0          3074.0   \n",
       "4 2019-12-04       4436.0                  1100.0          3336.0   \n",
       "5 2019-12-05       4553.0                  1143.0          3410.0   \n",
       "6 2019-12-06       4793.0                  1161.0          3632.0   \n",
       "7 2019-12-07       3667.0                   865.0          2802.0   \n",
       "8 2019-12-08       4032.0                   926.0          3106.0   \n",
       "9 2019-12-09       5052.0                  1314.0          3738.0   \n",
       "\n",
       "   fake_grinberg_initiation  fake_grinberg_rt  fake_grinberg_rb_initiation  \\\n",
       "0                      74.0             207.0                         42.0   \n",
       "1                     257.0             941.0                        120.0   \n",
       "2                     280.0             780.0                        141.0   \n",
       "3                     339.0             921.0                        185.0   \n",
       "4                     307.0            1171.0                        135.0   \n",
       "5                     362.0            1225.0                        179.0   \n",
       "6                     348.0            1369.0                        191.0   \n",
       "7                     253.0             891.0                        118.0   \n",
       "8                     312.0            1067.0                        181.0   \n",
       "9                     423.0            1307.0                        258.0   \n",
       "\n",
       "   fake_grinberg_rb_rt  fake_newsguard_initiation  fake_newsguard_rt  ...  \\\n",
       "0                138.0                      188.0              653.0  ...   \n",
       "1                546.0                      760.0             2293.0  ...   \n",
       "2                479.0                      926.0             2455.0  ...   \n",
       "3                562.0                     1052.0             2890.0  ...   \n",
       "4                540.0                     1038.0             3146.0  ...   \n",
       "5                591.0                     1071.0             2955.0  ...   \n",
       "6                746.0                     1106.0             3420.0  ...   \n",
       "7                503.0                      821.0             2695.0  ...   \n",
       "8                491.0                      873.0             2726.0  ...   \n",
       "9                637.0                     1250.0             3370.0  ...   \n",
       "\n",
       "   not_fake_shopping  not_fake_shopping_initiation  not_fake_shopping_rt  \\\n",
       "0              196.0                          61.0                 135.0   \n",
       "1              608.0                         207.0                 401.0   \n",
       "2              684.0                         289.0                 395.0   \n",
       "3              782.0                         236.0                 546.0   \n",
       "4              540.0                         261.0                 279.0   \n",
       "5              497.0                         220.0                 277.0   \n",
       "6              554.0                         278.0                 276.0   \n",
       "7              680.0                         278.0                 402.0   \n",
       "8              604.0                         262.0                 342.0   \n",
       "9              623.0                         233.0                 390.0   \n",
       "\n",
       "   not_fake_sports  not_fake_sports_initiation  not_fake_sports_rt        n  \\\n",
       "0             16.0                         7.0                 9.0  12387.0   \n",
       "1             99.0                        33.0                66.0  54897.0   \n",
       "2             82.0                        37.0                45.0  68505.0   \n",
       "3             92.0                        41.0                51.0  74502.0   \n",
       "4            124.0                        53.0                71.0  71762.0   \n",
       "5            106.0                        30.0                76.0  73712.0   \n",
       "6            105.0                        48.0                57.0  71382.0   \n",
       "7            121.0                        59.0                62.0  57632.0   \n",
       "8            126.0                        41.0                85.0  57830.0   \n",
       "9            155.0                        42.0               113.0  74561.0   \n",
       "\n",
       "    stat  nusers  group  \n",
       "0  total    4390    fns  \n",
       "1  total   11629    fns  \n",
       "2  total   13132    fns  \n",
       "3  total   13997    fns  \n",
       "4  total   13967    fns  \n",
       "5  total   14213    fns  \n",
       "6  total   13862    fns  \n",
       "7  total   12227    fns  \n",
       "8  total   12358    fns  \n",
       "9  total   13776    fns  \n",
       "\n",
       "[10 rows x 29 columns]"
      ]
     },
     "execution_count": 43,
     "metadata": {},
     "output_type": "execute_result"
    }
   ],
   "source": [
    "df.head(10)"
   ]
  },
  {
   "cell_type": "code",
   "execution_count": 29,
   "metadata": {
    "colab": {
     "base_uri": "https://localhost:8080/"
    },
    "executionInfo": {
     "elapsed": 156,
     "status": "ok",
     "timestamp": 1722298366698,
     "user": {
      "displayName": "William D Thompson",
      "userId": "16532926386286142479"
     },
     "user_tz": 420
    },
    "id": "pYPBniBE0CyY",
    "outputId": "c51a9db6-19f2-4afc-9de4-e5f024cd5a76"
   },
   "outputs": [
    {
     "data": {
      "text/plain": [
       "Index(['date', 'fake_merged', 'fake_merged_initiation', 'fake_merged_rt',\n",
       "       'fake_grinberg_initiation', 'fake_grinberg_rt',\n",
       "       'fake_grinberg_rb_initiation', 'fake_grinberg_rb_rt',\n",
       "       'fake_newsguard_initiation', 'fake_newsguard_rt', 'not_fake',\n",
       "       'not_fake_initiation', 'not_fake_rt', 'not_fake_conservative',\n",
       "       'not_fake_conservative_initiation', 'not_fake_conservative_rt',\n",
       "       'not_fake_liberal', 'not_fake_liberal_initiation',\n",
       "       'not_fake_liberal_rt', 'not_fake_shopping',\n",
       "       'not_fake_shopping_initiation', 'not_fake_shopping_rt',\n",
       "       'not_fake_sports', 'not_fake_sports_initiation', 'not_fake_sports_rt',\n",
       "       'n', 'stat', 'nusers', 'group'],\n",
       "      dtype='object')"
      ]
     },
     "execution_count": 29,
     "metadata": {},
     "output_type": "execute_result"
    }
   ],
   "source": [
    "df.columns"
   ]
  },
  {
   "cell_type": "code",
   "execution_count": 30,
   "metadata": {},
   "outputs": [
    {
     "data": {
      "text/plain": [
       "date                                2019-11-30\n",
       "fake_merged                              875.0\n",
       "fake_merged_initiation                   199.0\n",
       "fake_merged_rt                           676.0\n",
       "fake_grinberg_initiation                  74.0\n",
       "fake_grinberg_rt                         207.0\n",
       "fake_grinberg_rb_initiation               42.0\n",
       "fake_grinberg_rb_rt                      138.0\n",
       "fake_newsguard_initiation                188.0\n",
       "fake_newsguard_rt                        653.0\n",
       "not_fake                               11512.0\n",
       "not_fake_initiation                     4357.0\n",
       "not_fake_rt                             7155.0\n",
       "not_fake_conservative                    529.0\n",
       "not_fake_conservative_initiation         156.0\n",
       "not_fake_conservative_rt                 373.0\n",
       "not_fake_liberal                        1030.0\n",
       "not_fake_liberal_initiation              247.0\n",
       "not_fake_liberal_rt                      783.0\n",
       "not_fake_shopping                        196.0\n",
       "not_fake_shopping_initiation              61.0\n",
       "not_fake_shopping_rt                     135.0\n",
       "not_fake_sports                           16.0\n",
       "not_fake_sports_initiation                 7.0\n",
       "not_fake_sports_rt                         9.0\n",
       "n                                      12387.0\n",
       "stat                                     total\n",
       "nusers                                    4390\n",
       "group                                      fns\n",
       "Name: 0, dtype: object"
      ]
     },
     "execution_count": 30,
     "metadata": {},
     "output_type": "execute_result"
    }
   ],
   "source": [
    "df.iloc[0]"
   ]
  },
  {
   "cell_type": "markdown",
   "metadata": {
    "id": "LfFfFaO-0qm3"
   },
   "source": [
    "---\n",
    "\n",
    "## What are the variables?\n",
    "\n",
    "The Github repository contains a codebook describing the variables in the dataset. The codebook (pdf document) can be accessed here:\n",
    "\n",
    "[github.com/DiogoFerrari/replication-twitter-deplatforming/blob/master/codebook.pdf](https://github.com/DiogoFerrari/replication-twitter-deplatforming/blob/master/codebook.pdf)\n",
    "\n",
    "Let's go through these variables together.\n",
    "\n",
    "Main variable categories:\n",
    "* fake\n",
    "   *  fake_initiation (number of fake news links posted)\n",
    "   *  fake_rt (number of fake news links retweeted)\n",
    "   *  fake (fake_initiation + fake_rt)  \n",
    "* not fake\n",
    "   * not_fake_initiation\n",
    "   * not_fake_rt\n",
    "   * not_fake (not_fake_initiation + not_fake_rt)\n",
    "* fake_grinberg, fake_newsgaurd, etc (analagous but _fake_ classification is made according to a different list eg. newsgaurd list -- link to lists from article here or make that an excersise?)\n",
    "* n (fake + not fake)\n",
    "* stat (avg, total)\n",
    "* nusers\n",
    "* Date (we will discuss below &darr;)\n",
    "* User groups (e.g. qanon, suspended; we will go through user groups below &darr; &darr;)\n"
   ]
  },
  {
   "cell_type": "markdown",
   "metadata": {
    "id": "dSePYu83_PPI"
   },
   "source": [
    "## Formatting the date variable\n",
    "\n",
    "This dataset is a temporally organized dataset: we are tracking **numbers of tweets and retweets over time among different groups**. The `date` variable indexes every row to a specific date.\n",
    "\n",
    "Pandas has some useful methods for dealing with date formatted columns. To make use of these methods, we need to tell Pandas that the `date` column should be treated as a `datetime` object. \n",
    "\n",
    "To do this, we override the `date` column with a new Series derrived from the original `date` column via the Pandas `to_datetime` [function](https://pandas.pydata.org/docs/reference/api/pandas.to_datetime.html)."
   ]
  },
  {
   "cell_type": "code",
   "execution_count": 31,
   "metadata": {
    "id": "k63uoR1__FyR"
   },
   "outputs": [],
   "source": [
    "df['date'] = pd.to_datetime(df['date'])"
   ]
  },
  {
   "cell_type": "markdown",
   "metadata": {
    "id": "f3hJNKHsBJTP"
   },
   "source": [
    "The `datetime` object is useful because you can do handy things with it such as extracting the day or the month or year automatically:"
   ]
  },
  {
   "cell_type": "code",
   "execution_count": 32,
   "metadata": {
    "colab": {
     "base_uri": "https://localhost:8080/",
     "height": 115
    },
    "executionInfo": {
     "elapsed": 196,
     "status": "ok",
     "timestamp": 1722374036589,
     "user": {
      "displayName": "William D Thompson",
      "userId": "16532926386286142479"
     },
     "user_tz": 420
    },
    "id": "OVOvsUl5BUu_",
    "outputId": "0fdcfe14-3b2c-43c7-91be-5de2b6672b8f"
   },
   "outputs": [
    {
     "data": {
      "text/plain": [
       "17739    1\n",
       "Name: date, dtype: int32"
      ]
     },
     "execution_count": 32,
     "metadata": {},
     "output_type": "execute_result"
    }
   ],
   "source": [
    "# select a random row from the dataset using the dataframe `sample` method\n",
    "random_row = df.sample(n=1)\n",
    "\n",
    "# access properties of the date for that row using the `.dt` syntax\n",
    "# for example, let's access the month property\n",
    "random_row['date'].dt.month"
   ]
  },
  {
   "cell_type": "markdown",
   "metadata": {
    "id": "t_gu_ZTlCFCY"
   },
   "source": [
    "The datetime object is particuarly powerful because it allows you to more easily extract data for a specific *time window*. For example, suppose we want only tweets that were made in july. \n",
    "\n",
    "We can **extract the data from this time window** by specifying a start date (expressed as a string using the format `yyyy-mm-dd`) and and end date (expressed as a string using the format `yyyy-mm-dd`) and using these to subset the dataframe. "
   ]
  },
  {
   "cell_type": "code",
   "execution_count": 33,
   "metadata": {
    "colab": {
     "base_uri": "https://localhost:8080/",
     "height": 311
    },
    "executionInfo": {
     "elapsed": 197,
     "status": "ok",
     "timestamp": 1722374045238,
     "user": {
      "displayName": "William D Thompson",
      "userId": "16532926386286142479"
     },
     "user_tz": 420
    },
    "id": "NxP02dgpCJDe",
    "outputId": "f9dbbc98-b20e-4010-e0df-fbffa27db6d3"
   },
   "outputs": [],
   "source": [
    "start_date = '2020-07-01' # first day of july\n",
    "end_date = '2020-07-31' # final day of july"
   ]
  },
  {
   "cell_type": "markdown",
   "metadata": {},
   "source": [
    "In Pandas, you can easily subset a Dataframe using multiple conditions using the syntax `df[(condition_1) & (condition_2)]`. In this context, our conditions the start and the end dates. We wish to select rows that have a more recent date than the start date and an older date than the end date. You can express this as follows:  "
   ]
  },
  {
   "cell_type": "code",
   "execution_count": 34,
   "metadata": {},
   "outputs": [],
   "source": [
    "july_data = df[(df['date'] >= start_date) & (df['date'] < end_date)]"
   ]
  },
  {
   "cell_type": "markdown",
   "metadata": {},
   "source": [
    "Let's take a looks at a sample of the Jukly data to check:"
   ]
  },
  {
   "cell_type": "code",
   "execution_count": 35,
   "metadata": {},
   "outputs": [
    {
     "data": {
      "text/html": [
       "<div>\n",
       "<style scoped>\n",
       "    .dataframe tbody tr th:only-of-type {\n",
       "        vertical-align: middle;\n",
       "    }\n",
       "\n",
       "    .dataframe tbody tr th {\n",
       "        vertical-align: top;\n",
       "    }\n",
       "\n",
       "    .dataframe thead th {\n",
       "        text-align: right;\n",
       "    }\n",
       "</style>\n",
       "<table border=\"1\" class=\"dataframe\">\n",
       "  <thead>\n",
       "    <tr style=\"text-align: right;\">\n",
       "      <th></th>\n",
       "      <th>date</th>\n",
       "      <th>fake_merged</th>\n",
       "      <th>fake_merged_initiation</th>\n",
       "      <th>fake_merged_rt</th>\n",
       "      <th>fake_grinberg_initiation</th>\n",
       "      <th>fake_grinberg_rt</th>\n",
       "      <th>fake_grinberg_rb_initiation</th>\n",
       "      <th>fake_grinberg_rb_rt</th>\n",
       "      <th>fake_newsguard_initiation</th>\n",
       "      <th>fake_newsguard_rt</th>\n",
       "      <th>...</th>\n",
       "      <th>not_fake_shopping</th>\n",
       "      <th>not_fake_shopping_initiation</th>\n",
       "      <th>not_fake_shopping_rt</th>\n",
       "      <th>not_fake_sports</th>\n",
       "      <th>not_fake_sports_initiation</th>\n",
       "      <th>not_fake_sports_rt</th>\n",
       "      <th>n</th>\n",
       "      <th>stat</th>\n",
       "      <th>nusers</th>\n",
       "      <th>group</th>\n",
       "    </tr>\n",
       "  </thead>\n",
       "  <tbody>\n",
       "    <tr>\n",
       "      <th>32304</th>\n",
       "      <td>2020-07-09</td>\n",
       "      <td>24.0</td>\n",
       "      <td>3.0</td>\n",
       "      <td>21.0</td>\n",
       "      <td>1.0</td>\n",
       "      <td>1.0</td>\n",
       "      <td>0.0</td>\n",
       "      <td>0.0</td>\n",
       "      <td>2.0</td>\n",
       "      <td>21.0</td>\n",
       "      <td>...</td>\n",
       "      <td>1.000000</td>\n",
       "      <td>1.000000</td>\n",
       "      <td>0.000000</td>\n",
       "      <td>3.000000</td>\n",
       "      <td>1.000000</td>\n",
       "      <td>2.000000</td>\n",
       "      <td>509.00000</td>\n",
       "      <td>total</td>\n",
       "      <td>173</td>\n",
       "      <td>F_la</td>\n",
       "    </tr>\n",
       "    <tr>\n",
       "      <th>21584</th>\n",
       "      <td>2020-07-24</td>\n",
       "      <td>7361.0</td>\n",
       "      <td>1689.0</td>\n",
       "      <td>5672.0</td>\n",
       "      <td>461.0</td>\n",
       "      <td>1985.0</td>\n",
       "      <td>253.0</td>\n",
       "      <td>1064.0</td>\n",
       "      <td>1601.0</td>\n",
       "      <td>5282.0</td>\n",
       "      <td>...</td>\n",
       "      <td>4270.000000</td>\n",
       "      <td>2116.000000</td>\n",
       "      <td>2154.000000</td>\n",
       "      <td>530.000000</td>\n",
       "      <td>151.000000</td>\n",
       "      <td>379.000000</td>\n",
       "      <td>244411.00000</td>\n",
       "      <td>total</td>\n",
       "      <td>73820</td>\n",
       "      <td>all</td>\n",
       "    </tr>\n",
       "    <tr>\n",
       "      <th>23243</th>\n",
       "      <td>2020-07-03</td>\n",
       "      <td>0.0</td>\n",
       "      <td>0.0</td>\n",
       "      <td>0.0</td>\n",
       "      <td>0.0</td>\n",
       "      <td>0.0</td>\n",
       "      <td>0.0</td>\n",
       "      <td>0.0</td>\n",
       "      <td>0.0</td>\n",
       "      <td>0.0</td>\n",
       "      <td>...</td>\n",
       "      <td>1.115116</td>\n",
       "      <td>0.660465</td>\n",
       "      <td>0.454651</td>\n",
       "      <td>0.037209</td>\n",
       "      <td>0.018023</td>\n",
       "      <td>0.019186</td>\n",
       "      <td>8.02093</td>\n",
       "      <td>avg</td>\n",
       "      <td>1720</td>\n",
       "      <td>nfns_ha</td>\n",
       "    </tr>\n",
       "    <tr>\n",
       "      <th>26949</th>\n",
       "      <td>2020-07-15</td>\n",
       "      <td>374.0</td>\n",
       "      <td>89.0</td>\n",
       "      <td>285.0</td>\n",
       "      <td>51.0</td>\n",
       "      <td>115.0</td>\n",
       "      <td>31.0</td>\n",
       "      <td>44.0</td>\n",
       "      <td>89.0</td>\n",
       "      <td>262.0</td>\n",
       "      <td>...</td>\n",
       "      <td>58.000000</td>\n",
       "      <td>22.000000</td>\n",
       "      <td>36.000000</td>\n",
       "      <td>42.000000</td>\n",
       "      <td>6.000000</td>\n",
       "      <td>36.000000</td>\n",
       "      <td>21067.00000</td>\n",
       "      <td>total</td>\n",
       "      <td>1301</td>\n",
       "      <td>F_ha</td>\n",
       "    </tr>\n",
       "  </tbody>\n",
       "</table>\n",
       "<p>4 rows × 29 columns</p>\n",
       "</div>"
      ],
      "text/plain": [
       "            date  fake_merged  fake_merged_initiation  fake_merged_rt  \\\n",
       "32304 2020-07-09         24.0                     3.0            21.0   \n",
       "21584 2020-07-24       7361.0                  1689.0          5672.0   \n",
       "23243 2020-07-03          0.0                     0.0             0.0   \n",
       "26949 2020-07-15        374.0                    89.0           285.0   \n",
       "\n",
       "       fake_grinberg_initiation  fake_grinberg_rt  \\\n",
       "32304                       1.0               1.0   \n",
       "21584                     461.0            1985.0   \n",
       "23243                       0.0               0.0   \n",
       "26949                      51.0             115.0   \n",
       "\n",
       "       fake_grinberg_rb_initiation  fake_grinberg_rb_rt  \\\n",
       "32304                          0.0                  0.0   \n",
       "21584                        253.0               1064.0   \n",
       "23243                          0.0                  0.0   \n",
       "26949                         31.0                 44.0   \n",
       "\n",
       "       fake_newsguard_initiation  fake_newsguard_rt  ...  not_fake_shopping  \\\n",
       "32304                        2.0               21.0  ...           1.000000   \n",
       "21584                     1601.0             5282.0  ...        4270.000000   \n",
       "23243                        0.0                0.0  ...           1.115116   \n",
       "26949                       89.0              262.0  ...          58.000000   \n",
       "\n",
       "       not_fake_shopping_initiation  not_fake_shopping_rt  not_fake_sports  \\\n",
       "32304                      1.000000              0.000000         3.000000   \n",
       "21584                   2116.000000           2154.000000       530.000000   \n",
       "23243                      0.660465              0.454651         0.037209   \n",
       "26949                     22.000000             36.000000        42.000000   \n",
       "\n",
       "       not_fake_sports_initiation  not_fake_sports_rt             n   stat  \\\n",
       "32304                    1.000000            2.000000     509.00000  total   \n",
       "21584                  151.000000          379.000000  244411.00000  total   \n",
       "23243                    0.018023            0.019186       8.02093    avg   \n",
       "26949                    6.000000           36.000000   21067.00000  total   \n",
       "\n",
       "       nusers    group  \n",
       "32304     173     F_la  \n",
       "21584   73820      all  \n",
       "23243    1720  nfns_ha  \n",
       "26949    1301     F_ha  \n",
       "\n",
       "[4 rows x 29 columns]"
      ]
     },
     "execution_count": 35,
     "metadata": {},
     "output_type": "execute_result"
    }
   ],
   "source": [
    "july_data.sample(n=4)"
   ]
  },
  {
   "cell_type": "markdown",
   "metadata": {
    "id": "ilVI8JmXDAtd"
   },
   "source": [
    "This functionality will be very useful later."
   ]
  },
  {
   "cell_type": "markdown",
   "metadata": {
    "id": "WsvG9MMgHSWm"
   },
   "source": [
    "## Inspecting Groups in the data\n",
    "You can call the `unique` method on any columns of a Pandas DataFrame to return a list of the unique values present in that column. Here we can use `unique` to look at the different user groups that are present. \n",
    "\n",
    "**Note:** You can also use `nunique` to return a *count* of the unique values present in the column."
   ]
  },
  {
   "cell_type": "code",
   "execution_count": 36,
   "metadata": {
    "colab": {
     "base_uri": "https://localhost:8080/"
    },
    "executionInfo": {
     "elapsed": 199,
     "status": "ok",
     "timestamp": 1722374069462,
     "user": {
      "displayName": "William D Thompson",
      "userId": "16532926386286142479"
     },
     "user_tz": 420
    },
    "id": "M4cVTqta2n9Y",
    "outputId": "c559396f-2b0a-450d-9767-24d7388a7b8f"
   },
   "outputs": [],
   "source": [
    "groups = df.group.unique()"
   ]
  },
  {
   "cell_type": "code",
   "execution_count": 37,
   "metadata": {},
   "outputs": [
    {
     "name": "stdout",
     "output_type": "stream",
     "text": [
      "fns\n",
      "suspended\n",
      "ha\n",
      "ma\n",
      "la\n",
      "qanon\n",
      "av\n",
      "ss1\n",
      "ss5\n",
      "A\n",
      "B\n",
      "D\n",
      "F\n",
      "all\n",
      "nfns\n",
      "nfns_ha\n",
      "nfns_ma\n",
      "nfns_la\n",
      "A_ha\n",
      "B_ha\n",
      "D_ha\n",
      "F_ha\n",
      "A_ma\n",
      "B_ma\n",
      "D_ma\n",
      "F_ma\n",
      "A_la\n",
      "B_la\n",
      "D_la\n",
      "F_la\n"
     ]
    }
   ],
   "source": [
    "for group in groups:\n",
    "  print(group)"
   ]
  },
  {
   "cell_type": "markdown",
   "metadata": {
    "id": "unc8I4hg3C-h"
   },
   "source": [
    "Let's talk through what the different group codes represent using the [codebook pdf](https://github.com/DiogoFerrari/replication-twitter-deplatforming/blob/master/codebook.pdf). \n",
    "\n",
    "**Note:** ha = high activity, la = low_activity"
   ]
  },
  {
   "cell_type": "markdown",
   "metadata": {
    "id": "2LkO_KjBh4bu"
   },
   "source": [
    "# **Class Exercises**\n",
    "The exercises below are intended to help you get to the know the dataset better. \n",
    "\n",
    "The goal of these exercises is to provide an opportunity to explore the structure and the variables in the dataset. Feel free to be as creative as you like while working through the questions, and to view these exercises as scaffolding for your understanding of the data, rather than evaluative assignments.\n",
    "\n",
    "Each exercise includes at least one example of code and figures to explore relevant aspects of the data, and a challenge for your to engage with to extend those examples. Add code and text cells to the notebook as you work through the challenges to illustrate your journey through the data and ultimately your answers to the questions below."
   ]
  },
  {
   "cell_type": "markdown",
   "metadata": {
    "id": "xc29evNx3VmT"
   },
   "source": [
    "---\n",
    "\n",
    "## Exercise 1: Counting Users 👩🏽‍🦳 👨🏾‍🦲 🤦🏼 ... 🤖 🙋🏻‍♀️\n",
    "\n",
    "### **Example 1:** How many Qanon users are there?\n",
    "\n",
    "The group `qanon` indicates that users were classified as belonging to the group of users assosciated with the [Qanon movement](https://en.wikipedia.org/wiki/QAnon).\n",
    "\n",
    "Example question: **How many users were classified into the Qanon group?** \n",
    "\n",
    "The structure of the dataset makes this question a little difficult to answer. The dataset tells us how many tweets a `group` of users posted on a certain day (`date`), reflected in the variable `n`. "
   ]
  },
  {
   "cell_type": "markdown",
   "metadata": {},
   "source": [
    "First, we can create a subset of the dataset that contains only the rows relevant to this group:"
   ]
  },
  {
   "cell_type": "code",
   "execution_count": 51,
   "metadata": {
    "id": "d-Gc7eZR2ylU"
   },
   "outputs": [
    {
     "data": {
      "text/html": [
       "<div>\n",
       "<style scoped>\n",
       "    .dataframe tbody tr th:only-of-type {\n",
       "        vertical-align: middle;\n",
       "    }\n",
       "\n",
       "    .dataframe tbody tr th {\n",
       "        vertical-align: top;\n",
       "    }\n",
       "\n",
       "    .dataframe thead th {\n",
       "        text-align: right;\n",
       "    }\n",
       "</style>\n",
       "<table border=\"1\" class=\"dataframe\">\n",
       "  <thead>\n",
       "    <tr style=\"text-align: right;\">\n",
       "      <th></th>\n",
       "      <th>date</th>\n",
       "      <th>fake_merged</th>\n",
       "      <th>fake_merged_initiation</th>\n",
       "      <th>fake_merged_rt</th>\n",
       "      <th>fake_grinberg_initiation</th>\n",
       "      <th>fake_grinberg_rt</th>\n",
       "      <th>fake_grinberg_rb_initiation</th>\n",
       "      <th>fake_grinberg_rb_rt</th>\n",
       "      <th>fake_newsguard_initiation</th>\n",
       "      <th>fake_newsguard_rt</th>\n",
       "      <th>...</th>\n",
       "      <th>not_fake_shopping</th>\n",
       "      <th>not_fake_shopping_initiation</th>\n",
       "      <th>not_fake_shopping_rt</th>\n",
       "      <th>not_fake_sports</th>\n",
       "      <th>not_fake_sports_initiation</th>\n",
       "      <th>not_fake_sports_rt</th>\n",
       "      <th>n</th>\n",
       "      <th>stat</th>\n",
       "      <th>nusers</th>\n",
       "      <th>group</th>\n",
       "    </tr>\n",
       "  </thead>\n",
       "  <tbody>\n",
       "    <tr>\n",
       "      <th>2140</th>\n",
       "      <td>2019-11-30</td>\n",
       "      <td>232.0</td>\n",
       "      <td>45.0</td>\n",
       "      <td>187.0</td>\n",
       "      <td>33.0</td>\n",
       "      <td>71.0</td>\n",
       "      <td>29.0</td>\n",
       "      <td>50.0</td>\n",
       "      <td>44.0</td>\n",
       "      <td>178.0</td>\n",
       "      <td>...</td>\n",
       "      <td>15.0</td>\n",
       "      <td>9.0</td>\n",
       "      <td>6.0</td>\n",
       "      <td>0.0</td>\n",
       "      <td>0.0</td>\n",
       "      <td>0.0</td>\n",
       "      <td>804.0</td>\n",
       "      <td>total</td>\n",
       "      <td>148</td>\n",
       "      <td>qanon</td>\n",
       "    </tr>\n",
       "    <tr>\n",
       "      <th>2141</th>\n",
       "      <td>2019-12-01</td>\n",
       "      <td>602.0</td>\n",
       "      <td>84.0</td>\n",
       "      <td>518.0</td>\n",
       "      <td>18.0</td>\n",
       "      <td>193.0</td>\n",
       "      <td>12.0</td>\n",
       "      <td>144.0</td>\n",
       "      <td>81.0</td>\n",
       "      <td>493.0</td>\n",
       "      <td>...</td>\n",
       "      <td>45.0</td>\n",
       "      <td>30.0</td>\n",
       "      <td>15.0</td>\n",
       "      <td>0.0</td>\n",
       "      <td>0.0</td>\n",
       "      <td>0.0</td>\n",
       "      <td>2606.0</td>\n",
       "      <td>total</td>\n",
       "      <td>299</td>\n",
       "      <td>qanon</td>\n",
       "    </tr>\n",
       "    <tr>\n",
       "      <th>2142</th>\n",
       "      <td>2019-12-02</td>\n",
       "      <td>726.0</td>\n",
       "      <td>133.0</td>\n",
       "      <td>593.0</td>\n",
       "      <td>39.0</td>\n",
       "      <td>178.0</td>\n",
       "      <td>35.0</td>\n",
       "      <td>137.0</td>\n",
       "      <td>133.0</td>\n",
       "      <td>570.0</td>\n",
       "      <td>...</td>\n",
       "      <td>27.0</td>\n",
       "      <td>22.0</td>\n",
       "      <td>5.0</td>\n",
       "      <td>0.0</td>\n",
       "      <td>0.0</td>\n",
       "      <td>0.0</td>\n",
       "      <td>3435.0</td>\n",
       "      <td>total</td>\n",
       "      <td>330</td>\n",
       "      <td>qanon</td>\n",
       "    </tr>\n",
       "    <tr>\n",
       "      <th>2143</th>\n",
       "      <td>2019-12-03</td>\n",
       "      <td>851.0</td>\n",
       "      <td>137.0</td>\n",
       "      <td>714.0</td>\n",
       "      <td>72.0</td>\n",
       "      <td>233.0</td>\n",
       "      <td>63.0</td>\n",
       "      <td>165.0</td>\n",
       "      <td>131.0</td>\n",
       "      <td>684.0</td>\n",
       "      <td>...</td>\n",
       "      <td>37.0</td>\n",
       "      <td>20.0</td>\n",
       "      <td>17.0</td>\n",
       "      <td>0.0</td>\n",
       "      <td>0.0</td>\n",
       "      <td>0.0</td>\n",
       "      <td>3614.0</td>\n",
       "      <td>total</td>\n",
       "      <td>347</td>\n",
       "      <td>qanon</td>\n",
       "    </tr>\n",
       "    <tr>\n",
       "      <th>2144</th>\n",
       "      <td>2019-12-04</td>\n",
       "      <td>873.0</td>\n",
       "      <td>81.0</td>\n",
       "      <td>792.0</td>\n",
       "      <td>16.0</td>\n",
       "      <td>304.0</td>\n",
       "      <td>8.0</td>\n",
       "      <td>162.0</td>\n",
       "      <td>77.0</td>\n",
       "      <td>753.0</td>\n",
       "      <td>...</td>\n",
       "      <td>48.0</td>\n",
       "      <td>38.0</td>\n",
       "      <td>10.0</td>\n",
       "      <td>0.0</td>\n",
       "      <td>0.0</td>\n",
       "      <td>0.0</td>\n",
       "      <td>3271.0</td>\n",
       "      <td>total</td>\n",
       "      <td>346</td>\n",
       "      <td>qanon</td>\n",
       "    </tr>\n",
       "  </tbody>\n",
       "</table>\n",
       "<p>5 rows × 29 columns</p>\n",
       "</div>"
      ],
      "text/plain": [
       "           date  fake_merged  fake_merged_initiation  fake_merged_rt  \\\n",
       "2140 2019-11-30        232.0                    45.0           187.0   \n",
       "2141 2019-12-01        602.0                    84.0           518.0   \n",
       "2142 2019-12-02        726.0                   133.0           593.0   \n",
       "2143 2019-12-03        851.0                   137.0           714.0   \n",
       "2144 2019-12-04        873.0                    81.0           792.0   \n",
       "\n",
       "      fake_grinberg_initiation  fake_grinberg_rt  fake_grinberg_rb_initiation  \\\n",
       "2140                      33.0              71.0                         29.0   \n",
       "2141                      18.0             193.0                         12.0   \n",
       "2142                      39.0             178.0                         35.0   \n",
       "2143                      72.0             233.0                         63.0   \n",
       "2144                      16.0             304.0                          8.0   \n",
       "\n",
       "      fake_grinberg_rb_rt  fake_newsguard_initiation  fake_newsguard_rt  ...  \\\n",
       "2140                 50.0                       44.0              178.0  ...   \n",
       "2141                144.0                       81.0              493.0  ...   \n",
       "2142                137.0                      133.0              570.0  ...   \n",
       "2143                165.0                      131.0              684.0  ...   \n",
       "2144                162.0                       77.0              753.0  ...   \n",
       "\n",
       "      not_fake_shopping  not_fake_shopping_initiation  not_fake_shopping_rt  \\\n",
       "2140               15.0                           9.0                   6.0   \n",
       "2141               45.0                          30.0                  15.0   \n",
       "2142               27.0                          22.0                   5.0   \n",
       "2143               37.0                          20.0                  17.0   \n",
       "2144               48.0                          38.0                  10.0   \n",
       "\n",
       "      not_fake_sports  not_fake_sports_initiation  not_fake_sports_rt       n  \\\n",
       "2140              0.0                         0.0                 0.0   804.0   \n",
       "2141              0.0                         0.0                 0.0  2606.0   \n",
       "2142              0.0                         0.0                 0.0  3435.0   \n",
       "2143              0.0                         0.0                 0.0  3614.0   \n",
       "2144              0.0                         0.0                 0.0  3271.0   \n",
       "\n",
       "       stat  nusers  group  \n",
       "2140  total     148  qanon  \n",
       "2141  total     299  qanon  \n",
       "2142  total     330  qanon  \n",
       "2143  total     347  qanon  \n",
       "2144  total     346  qanon  \n",
       "\n",
       "[5 rows x 29 columns]"
      ]
     },
     "execution_count": 51,
     "metadata": {},
     "output_type": "execute_result"
    }
   ],
   "source": [
    "# subset to just the qanon group\n",
    "qanon = df[(df['group'] == \"qanon\")].copy()\n",
    "\n",
    "qanon.head()"
   ]
  },
  {
   "cell_type": "markdown",
   "metadata": {},
   "source": [
    "**Note:** it can be good practice to take a copy (by calling `.copy`) of the datset when looking at a subset if you plan to modify the new data subset.\n",
    "\n",
    "As we discussed earlier, the dataset contains some rows that reflect the **average** number of tweets by a specific group on a specific date, and some rows that reflect the **total** number of tweets by a specific group on a specific date. \n",
    "\n",
    "Let's choose to look at the total number of posts (`\"stat\" == \"total\"`), rather than the average."
   ]
  },
  {
   "cell_type": "code",
   "execution_count": 52,
   "metadata": {},
   "outputs": [
    {
     "data": {
      "text/html": [
       "<div>\n",
       "<style scoped>\n",
       "    .dataframe tbody tr th:only-of-type {\n",
       "        vertical-align: middle;\n",
       "    }\n",
       "\n",
       "    .dataframe tbody tr th {\n",
       "        vertical-align: top;\n",
       "    }\n",
       "\n",
       "    .dataframe thead th {\n",
       "        text-align: right;\n",
       "    }\n",
       "</style>\n",
       "<table border=\"1\" class=\"dataframe\">\n",
       "  <thead>\n",
       "    <tr style=\"text-align: right;\">\n",
       "      <th></th>\n",
       "      <th>date</th>\n",
       "      <th>fake_merged</th>\n",
       "      <th>fake_merged_initiation</th>\n",
       "      <th>fake_merged_rt</th>\n",
       "      <th>fake_grinberg_initiation</th>\n",
       "      <th>fake_grinberg_rt</th>\n",
       "      <th>fake_grinberg_rb_initiation</th>\n",
       "      <th>fake_grinberg_rb_rt</th>\n",
       "      <th>fake_newsguard_initiation</th>\n",
       "      <th>fake_newsguard_rt</th>\n",
       "      <th>...</th>\n",
       "      <th>not_fake_shopping</th>\n",
       "      <th>not_fake_shopping_initiation</th>\n",
       "      <th>not_fake_shopping_rt</th>\n",
       "      <th>not_fake_sports</th>\n",
       "      <th>not_fake_sports_initiation</th>\n",
       "      <th>not_fake_sports_rt</th>\n",
       "      <th>n</th>\n",
       "      <th>stat</th>\n",
       "      <th>nusers</th>\n",
       "      <th>group</th>\n",
       "    </tr>\n",
       "  </thead>\n",
       "  <tbody>\n",
       "    <tr>\n",
       "      <th>2140</th>\n",
       "      <td>2019-11-30</td>\n",
       "      <td>232.0</td>\n",
       "      <td>45.0</td>\n",
       "      <td>187.0</td>\n",
       "      <td>33.0</td>\n",
       "      <td>71.0</td>\n",
       "      <td>29.0</td>\n",
       "      <td>50.0</td>\n",
       "      <td>44.0</td>\n",
       "      <td>178.0</td>\n",
       "      <td>...</td>\n",
       "      <td>15.0</td>\n",
       "      <td>9.0</td>\n",
       "      <td>6.0</td>\n",
       "      <td>0.0</td>\n",
       "      <td>0.0</td>\n",
       "      <td>0.0</td>\n",
       "      <td>804.0</td>\n",
       "      <td>total</td>\n",
       "      <td>148</td>\n",
       "      <td>qanon</td>\n",
       "    </tr>\n",
       "    <tr>\n",
       "      <th>2141</th>\n",
       "      <td>2019-12-01</td>\n",
       "      <td>602.0</td>\n",
       "      <td>84.0</td>\n",
       "      <td>518.0</td>\n",
       "      <td>18.0</td>\n",
       "      <td>193.0</td>\n",
       "      <td>12.0</td>\n",
       "      <td>144.0</td>\n",
       "      <td>81.0</td>\n",
       "      <td>493.0</td>\n",
       "      <td>...</td>\n",
       "      <td>45.0</td>\n",
       "      <td>30.0</td>\n",
       "      <td>15.0</td>\n",
       "      <td>0.0</td>\n",
       "      <td>0.0</td>\n",
       "      <td>0.0</td>\n",
       "      <td>2606.0</td>\n",
       "      <td>total</td>\n",
       "      <td>299</td>\n",
       "      <td>qanon</td>\n",
       "    </tr>\n",
       "    <tr>\n",
       "      <th>2142</th>\n",
       "      <td>2019-12-02</td>\n",
       "      <td>726.0</td>\n",
       "      <td>133.0</td>\n",
       "      <td>593.0</td>\n",
       "      <td>39.0</td>\n",
       "      <td>178.0</td>\n",
       "      <td>35.0</td>\n",
       "      <td>137.0</td>\n",
       "      <td>133.0</td>\n",
       "      <td>570.0</td>\n",
       "      <td>...</td>\n",
       "      <td>27.0</td>\n",
       "      <td>22.0</td>\n",
       "      <td>5.0</td>\n",
       "      <td>0.0</td>\n",
       "      <td>0.0</td>\n",
       "      <td>0.0</td>\n",
       "      <td>3435.0</td>\n",
       "      <td>total</td>\n",
       "      <td>330</td>\n",
       "      <td>qanon</td>\n",
       "    </tr>\n",
       "    <tr>\n",
       "      <th>2143</th>\n",
       "      <td>2019-12-03</td>\n",
       "      <td>851.0</td>\n",
       "      <td>137.0</td>\n",
       "      <td>714.0</td>\n",
       "      <td>72.0</td>\n",
       "      <td>233.0</td>\n",
       "      <td>63.0</td>\n",
       "      <td>165.0</td>\n",
       "      <td>131.0</td>\n",
       "      <td>684.0</td>\n",
       "      <td>...</td>\n",
       "      <td>37.0</td>\n",
       "      <td>20.0</td>\n",
       "      <td>17.0</td>\n",
       "      <td>0.0</td>\n",
       "      <td>0.0</td>\n",
       "      <td>0.0</td>\n",
       "      <td>3614.0</td>\n",
       "      <td>total</td>\n",
       "      <td>347</td>\n",
       "      <td>qanon</td>\n",
       "    </tr>\n",
       "    <tr>\n",
       "      <th>2144</th>\n",
       "      <td>2019-12-04</td>\n",
       "      <td>873.0</td>\n",
       "      <td>81.0</td>\n",
       "      <td>792.0</td>\n",
       "      <td>16.0</td>\n",
       "      <td>304.0</td>\n",
       "      <td>8.0</td>\n",
       "      <td>162.0</td>\n",
       "      <td>77.0</td>\n",
       "      <td>753.0</td>\n",
       "      <td>...</td>\n",
       "      <td>48.0</td>\n",
       "      <td>38.0</td>\n",
       "      <td>10.0</td>\n",
       "      <td>0.0</td>\n",
       "      <td>0.0</td>\n",
       "      <td>0.0</td>\n",
       "      <td>3271.0</td>\n",
       "      <td>total</td>\n",
       "      <td>346</td>\n",
       "      <td>qanon</td>\n",
       "    </tr>\n",
       "  </tbody>\n",
       "</table>\n",
       "<p>5 rows × 29 columns</p>\n",
       "</div>"
      ],
      "text/plain": [
       "           date  fake_merged  fake_merged_initiation  fake_merged_rt  \\\n",
       "2140 2019-11-30        232.0                    45.0           187.0   \n",
       "2141 2019-12-01        602.0                    84.0           518.0   \n",
       "2142 2019-12-02        726.0                   133.0           593.0   \n",
       "2143 2019-12-03        851.0                   137.0           714.0   \n",
       "2144 2019-12-04        873.0                    81.0           792.0   \n",
       "\n",
       "      fake_grinberg_initiation  fake_grinberg_rt  fake_grinberg_rb_initiation  \\\n",
       "2140                      33.0              71.0                         29.0   \n",
       "2141                      18.0             193.0                         12.0   \n",
       "2142                      39.0             178.0                         35.0   \n",
       "2143                      72.0             233.0                         63.0   \n",
       "2144                      16.0             304.0                          8.0   \n",
       "\n",
       "      fake_grinberg_rb_rt  fake_newsguard_initiation  fake_newsguard_rt  ...  \\\n",
       "2140                 50.0                       44.0              178.0  ...   \n",
       "2141                144.0                       81.0              493.0  ...   \n",
       "2142                137.0                      133.0              570.0  ...   \n",
       "2143                165.0                      131.0              684.0  ...   \n",
       "2144                162.0                       77.0              753.0  ...   \n",
       "\n",
       "      not_fake_shopping  not_fake_shopping_initiation  not_fake_shopping_rt  \\\n",
       "2140               15.0                           9.0                   6.0   \n",
       "2141               45.0                          30.0                  15.0   \n",
       "2142               27.0                          22.0                   5.0   \n",
       "2143               37.0                          20.0                  17.0   \n",
       "2144               48.0                          38.0                  10.0   \n",
       "\n",
       "      not_fake_sports  not_fake_sports_initiation  not_fake_sports_rt       n  \\\n",
       "2140              0.0                         0.0                 0.0   804.0   \n",
       "2141              0.0                         0.0                 0.0  2606.0   \n",
       "2142              0.0                         0.0                 0.0  3435.0   \n",
       "2143              0.0                         0.0                 0.0  3614.0   \n",
       "2144              0.0                         0.0                 0.0  3271.0   \n",
       "\n",
       "       stat  nusers  group  \n",
       "2140  total     148  qanon  \n",
       "2141  total     299  qanon  \n",
       "2142  total     330  qanon  \n",
       "2143  total     347  qanon  \n",
       "2144  total     346  qanon  \n",
       "\n",
       "[5 rows x 29 columns]"
      ]
     },
     "execution_count": 52,
     "metadata": {},
     "output_type": "execute_result"
    }
   ],
   "source": [
    "qanon_totals = qanon[\n",
    "    (qanon[\"stat\"] == \"total\")\n",
    "].copy()\n",
    "\n",
    "qanon_totals.head()"
   ]
  },
  {
   "cell_type": "markdown",
   "metadata": {},
   "source": [
    "Let's look at the date and the nusers columns side by side:"
   ]
  },
  {
   "cell_type": "code",
   "execution_count": 53,
   "metadata": {
    "colab": {
     "base_uri": "https://localhost:8080/",
     "height": 363
    },
    "executionInfo": {
     "elapsed": 183,
     "status": "ok",
     "timestamp": 1722376665439,
     "user": {
      "displayName": "William D Thompson",
      "userId": "16532926386286142479"
     },
     "user_tz": 420
    },
    "id": "fyFY9R0-4rSm",
    "outputId": "e4716cd1-d7b9-4de9-bbb6-84f04682d0d7"
   },
   "outputs": [
    {
     "data": {
      "text/html": [
       "<div>\n",
       "<style scoped>\n",
       "    .dataframe tbody tr th:only-of-type {\n",
       "        vertical-align: middle;\n",
       "    }\n",
       "\n",
       "    .dataframe tbody tr th {\n",
       "        vertical-align: top;\n",
       "    }\n",
       "\n",
       "    .dataframe thead th {\n",
       "        text-align: right;\n",
       "    }\n",
       "</style>\n",
       "<table border=\"1\" class=\"dataframe\">\n",
       "  <thead>\n",
       "    <tr style=\"text-align: right;\">\n",
       "      <th></th>\n",
       "      <th>date</th>\n",
       "      <th>nusers</th>\n",
       "    </tr>\n",
       "  </thead>\n",
       "  <tbody>\n",
       "    <tr>\n",
       "      <th>2326</th>\n",
       "      <td>2020-06-03</td>\n",
       "      <td>661</td>\n",
       "    </tr>\n",
       "    <tr>\n",
       "      <th>16390</th>\n",
       "      <td>2021-01-22</td>\n",
       "      <td>254</td>\n",
       "    </tr>\n",
       "    <tr>\n",
       "      <th>16280</th>\n",
       "      <td>2020-10-04</td>\n",
       "      <td>636</td>\n",
       "    </tr>\n",
       "    <tr>\n",
       "      <th>16369</th>\n",
       "      <td>2021-01-01</td>\n",
       "      <td>582</td>\n",
       "    </tr>\n",
       "    <tr>\n",
       "      <th>16210</th>\n",
       "      <td>2020-07-26</td>\n",
       "      <td>640</td>\n",
       "    </tr>\n",
       "    <tr>\n",
       "      <th>2259</th>\n",
       "      <td>2020-03-28</td>\n",
       "      <td>555</td>\n",
       "    </tr>\n",
       "    <tr>\n",
       "      <th>16449</th>\n",
       "      <td>2021-03-22</td>\n",
       "      <td>184</td>\n",
       "    </tr>\n",
       "    <tr>\n",
       "      <th>16310</th>\n",
       "      <td>2020-11-03</td>\n",
       "      <td>568</td>\n",
       "    </tr>\n",
       "    <tr>\n",
       "      <th>16301</th>\n",
       "      <td>2020-10-25</td>\n",
       "      <td>326</td>\n",
       "    </tr>\n",
       "    <tr>\n",
       "      <th>2352</th>\n",
       "      <td>2020-06-29</td>\n",
       "      <td>637</td>\n",
       "    </tr>\n",
       "  </tbody>\n",
       "</table>\n",
       "</div>"
      ],
      "text/plain": [
       "            date  nusers\n",
       "2326  2020-06-03     661\n",
       "16390 2021-01-22     254\n",
       "16280 2020-10-04     636\n",
       "16369 2021-01-01     582\n",
       "16210 2020-07-26     640\n",
       "2259  2020-03-28     555\n",
       "16449 2021-03-22     184\n",
       "16310 2020-11-03     568\n",
       "16301 2020-10-25     326\n",
       "2352  2020-06-29     637"
      ]
     },
     "execution_count": 53,
     "metadata": {},
     "output_type": "execute_result"
    }
   ],
   "source": [
    "qanon_totals[[\"date\", \"nusers\"]].sample(n=10)"
   ]
  },
  {
   "cell_type": "markdown",
   "metadata": {
    "id": "mKhgYfTa5LVf"
   },
   "source": [
    "The variable `nusers` reflects the number of unique users among the tweets collected on *that particular day*. We can also ask, for example, what the maximum number of users observed per day was during the panel."
   ]
  },
  {
   "cell_type": "code",
   "execution_count": 98,
   "metadata": {
    "colab": {
     "base_uri": "https://localhost:8080/"
    },
    "executionInfo": {
     "elapsed": 2,
     "status": "ok",
     "timestamp": 1722376668019,
     "user": {
      "displayName": "William D Thompson",
      "userId": "16532926386286142479"
     },
     "user_tz": 420
    },
    "id": "9dU4cqT440CV",
    "outputId": "99604b1e-3657-46bb-dd46-7547ac7f6b7d"
   },
   "outputs": [
    {
     "data": {
      "text/plain": [
       "709"
      ]
     },
     "execution_count": 98,
     "metadata": {},
     "output_type": "execute_result"
    }
   ],
   "source": [
    "int(qanon_totals['nusers'].max())"
   ]
  },
  {
   "cell_type": "markdown",
   "metadata": {
    "id": "pbwDYWjcWUbG"
   },
   "source": [
    "Over 700 unique Quanon accounts posting on a single day!\n",
    "\n",
    "The figure below plots the number of users posting in the `Qanon` group (`nusers`) over time. The graph shows that the number of Qanon accounts grew steadily during 2020, and was much lower around November 2020 (*why might that be*?) and after January 2021."
   ]
  },
  {
   "cell_type": "code",
   "execution_count": 99,
   "metadata": {
    "colab": {
     "base_uri": "https://localhost:8080/",
     "height": 231
    },
    "executionInfo": {
     "elapsed": 519,
     "status": "ok",
     "timestamp": 1722376669736,
     "user": {
      "displayName": "William D Thompson",
      "userId": "16532926386286142479"
     },
     "user_tz": 420
    },
    "id": "fB5tqX0U6vdC",
    "outputId": "dc09ebc4-31b3-4f0b-a7e5-c9011a1b1aba"
   },
   "outputs": [
    {
     "data": {
      "text/plain": [
       "[<matplotlib.lines.Line2D at 0x1176de5b0>]"
      ]
     },
     "execution_count": 99,
     "metadata": {},
     "output_type": "execute_result"
    },
    {
     "data": {
      "image/png": "[encoded data removed]",
      "text/plain": [
       "<Figure size 1600x200 with 1 Axes>"
      ]
     },
     "metadata": {},
     "output_type": "display_data"
    }
   ],
   "source": [
    "# Create a new figure using Matplotlib\n",
    "plt.figure(figsize=(16, 2)) # Specify a wide (16) but shallow (2) figure size. \n",
    "\n",
    "# add the data to the figure as a line plot \n",
    "plt.plot(qanon_totals.date, qanon_totals.nusers, color=\"#f54295\")"
   ]
  },
  {
   "cell_type": "markdown",
   "metadata": {},
   "source": [
    "In the figure above, we have drawn a simple line plot with the number of Qanon users on the y axis (`qanon_totals.nusers`) and the datetime stamp on the x axis (`qanon_totals.date`). I used a color I like by passing the asrgument `color=...` to the `plt.plot` function. "
   ]
  },
  {
   "cell_type": "markdown",
   "metadata": {
    "id": "8MMMyhz1-ch_"
   },
   "source": [
    "### **Challenge 1:** How many Trump followers?\n",
    "\n",
    "Try to answer the question below, using figures and summary outputs to illustrate your answer. If you interact with an AI system to help with this challenge, remember to follow the policy described last week in Notebook 1 and include a copy of your interacction here or provide a link to the interaction trace.\n",
    "\n",
    "On average, how many **Trump followers** were active **per day** before january 12th?"
   ]
  },
  {
   "cell_type": "code",
   "execution_count": 142,
   "metadata": {
    "id": "QKU4g3EnTrfD"
   },
   "outputs": [
    {
     "name": "stdout",
     "output_type": "stream",
     "text": [
      "1408.4963325183373\n"
     ]
    },
    {
     "data": {
      "text/html": [
       "<div>\n",
       "<style scoped>\n",
       "    .dataframe tbody tr th:only-of-type {\n",
       "        vertical-align: middle;\n",
       "    }\n",
       "\n",
       "    .dataframe tbody tr th {\n",
       "        vertical-align: top;\n",
       "    }\n",
       "\n",
       "    .dataframe thead th {\n",
       "        text-align: right;\n",
       "    }\n",
       "</style>\n",
       "<table border=\"1\" class=\"dataframe\">\n",
       "  <thead>\n",
       "    <tr style=\"text-align: right;\">\n",
       "      <th></th>\n",
       "      <th>date</th>\n",
       "      <th>fake_merged</th>\n",
       "      <th>fake_merged_initiation</th>\n",
       "      <th>fake_merged_rt</th>\n",
       "      <th>fake_grinberg_initiation</th>\n",
       "      <th>fake_grinberg_rt</th>\n",
       "      <th>fake_grinberg_rb_initiation</th>\n",
       "      <th>fake_grinberg_rb_rt</th>\n",
       "      <th>fake_newsguard_initiation</th>\n",
       "      <th>fake_newsguard_rt</th>\n",
       "      <th>...</th>\n",
       "      <th>not_fake_shopping</th>\n",
       "      <th>not_fake_shopping_initiation</th>\n",
       "      <th>not_fake_shopping_rt</th>\n",
       "      <th>not_fake_sports</th>\n",
       "      <th>not_fake_sports_initiation</th>\n",
       "      <th>not_fake_sports_rt</th>\n",
       "      <th>n</th>\n",
       "      <th>stat</th>\n",
       "      <th>nusers</th>\n",
       "      <th>group</th>\n",
       "    </tr>\n",
       "  </thead>\n",
       "  <tbody>\n",
       "  </tbody>\n",
       "</table>\n",
       "<p>0 rows × 29 columns</p>\n",
       "</div>"
      ],
      "text/plain": [
       "Empty DataFrame\n",
       "Columns: [date, fake_merged, fake_merged_initiation, fake_merged_rt, fake_grinberg_initiation, fake_grinberg_rt, fake_grinberg_rb_initiation, fake_grinberg_rb_rt, fake_newsguard_initiation, fake_newsguard_rt, not_fake, not_fake_initiation, not_fake_rt, not_fake_conservative, not_fake_conservative_initiation, not_fake_conservative_rt, not_fake_liberal, not_fake_liberal_initiation, not_fake_liberal_rt, not_fake_shopping, not_fake_shopping_initiation, not_fake_shopping_rt, not_fake_sports, not_fake_sports_initiation, not_fake_sports_rt, n, stat, nusers, group]\n",
       "Index: []\n",
       "\n",
       "[0 rows x 29 columns]"
      ]
     },
     "execution_count": 142,
     "metadata": {},
     "output_type": "execute_result"
    },
    {
     "data": {
      "image/png": "[encoded data removed]",
      "text/plain": [
       "<Figure size 1600x200 with 1 Axes>"
      ]
     },
     "metadata": {},
     "output_type": "display_data"
    }
   ],
   "source": [
    "# Your answers to Challenge 1 begin here.\n",
    "# Add more code and text cells as you need.\n",
    "\n",
    "trump = df[df['group'] == \"A\"].copy()\n",
    "trump = trump.drop(index=18872)\n",
    "\n",
    "trump_totals = trump[\n",
    "    (trump[\"stat\"] == \"total\")\n",
    "].copy()#.groupby(['date']).sum().reset_index()\n",
    "\n",
    "trump_totals_before = trump_totals[(trump_totals.date < \"2021-01-12\")]\n",
    "\n",
    "print(float(trump_totals_before.nusers.mean()))\n",
    "\n",
    "plt.figure(figsize=(16, 2))\n",
    "plt.plot(trump_totals_before.date, trump_totals_before.nusers, color=\"#f54295\")\n",
    "\n",
    "trump_totals_before[trump_totals_before['date'].duplicated(keep=False)]\n",
    "\n",
    "# Duplicated data on 2020-06-30"
   ]
  },
  {
   "cell_type": "markdown",
   "metadata": {
    "id": "O9-CP_AHM-jL"
   },
   "source": [
    "---\n",
    "\n",
    "## Excersise 2: Counting Tweets and Retweets\n",
    "Let's look at the number of tweets and retweets made by different groups over time. This will allow us to practice using the datetime object functionality to select time window subsets of the dataframe, and to get to know the variables that count numbers of posts in different categories.\n",
    "\n",
    "### **Example 2**: Counting Tweets by Qanon users over time\n",
    "First, let's look at the number of posts made by users assigned to the `Qanon` group during 2021. We can look at the total number of posts and the number of posts that were tagged as Misinformation (as classifieds by the `fake_merged` variable), to see how these two are related, and to look for trends over time."
   ]
  },
  {
   "cell_type": "code",
   "execution_count": 102,
   "metadata": {
    "colab": {
     "base_uri": "https://localhost:8080/",
     "height": 231
    },
    "executionInfo": {
     "elapsed": 1406,
     "status": "ok",
     "timestamp": 1722376341844,
     "user": {
      "displayName": "William D Thompson",
      "userId": "16532926386286142479"
     },
     "user_tz": 420
    },
    "id": "DgZMCW79A2iE",
    "outputId": "e009bdd4-8bd3-499a-f688-222346af31ff"
   },
   "outputs": [
    {
     "data": {
      "text/plain": [
       "<matplotlib.legend.Legend at 0x117855ca0>"
      ]
     },
     "execution_count": 102,
     "metadata": {},
     "output_type": "execute_result"
    },
    {
     "data": {
      "image/png": "[encoded data removed]",
      "text/plain": [
       "<Figure size 1600x200 with 1 Axes>"
      ]
     },
     "metadata": {},
     "output_type": "display_data"
    }
   ],
   "source": [
    "# Subset to just tweets during 2021\n",
    "qanon_totals_2021 = qanon_totals[qanon_totals.date >= \"2021-01-01\"]\n",
    "\n",
    "# Make a wide figure for the timeseries\n",
    "plt.figure(figsize=(16, 2))\n",
    "\n",
    "# Plot date on the x axis, and n (total number of tweets) on the y axis\n",
    "plt.bar(qanon_totals_2021.date, qanon_totals_2021.n, color='lightblue', label=\"All Tweets\")\n",
    "\n",
    "# Overlay a count of the misinformation tweets (the fake_merged variable) in a different color\n",
    "plt.bar(\n",
    "    qanon_totals_2021.date,\n",
    "    qanon_totals_2021.fake_merged,\n",
    "    color='magenta',\n",
    "    alpha=0.75,\n",
    "    label=\"Misinformation\"\n",
    ")\n",
    "plt.legend()"
   ]
  },
  {
   "cell_type": "markdown",
   "metadata": {
    "id": "XnmPpLmrkW04"
   },
   "source": [
    "The figure above shows a noticable decrease in both the number of total posts as well as the number of posts tagged as misinformation early in 2021. We can ssume that this sharp decrease is related to the deplatforming event. But is this decrease limited to the `Qanon` group, or is it also seen in other groups?   "
   ]
  },
  {
   "cell_type": "markdown",
   "metadata": {
    "id": "8K5fbijdk8g3"
   },
   "source": [
    "### **Chalelnge 2:** Examine posts over time by Trump followers\n",
    "\n",
    "Try to answer the following question with data. Use figures to make your point.\n",
    "\n",
    "1. How did the posting patterns of Trump followers change over time in this dataset? Visualize the answer by plotting the numbers of posts over time in this group, including 2020 and perhaps examining particular periods of interest. What do these patterns look like around November 2020?"
   ]
  },
  {
   "cell_type": "code",
   "execution_count": 148,
   "metadata": {},
   "outputs": [
    {
     "data": {
      "text/plain": [
       "<matplotlib.legend.Legend at 0x119e628e0>"
      ]
     },
     "execution_count": 148,
     "metadata": {},
     "output_type": "execute_result"
    },
    {
     "data": {
      "image/png": "[encoded data removed]",
      "text/plain": [
       "<Figure size 1600x200 with 1 Axes>"
      ]
     },
     "metadata": {},
     "output_type": "display_data"
    }
   ],
   "source": [
    "# Subset to just tweets during 2021\n",
    "trump_totals_2020 = trump_totals[(trump_totals.date >= \"2020-01-01\") & (trump_totals.date <= \"2020-12-31\")]\n",
    "\n",
    "# Make a wide figure for the timeseries\n",
    "plt.figure(figsize=(16, 2))\n",
    "\n",
    "# Plot date on the x axis, and n (total number of tweets) on the y axis\n",
    "plt.bar(trump_totals_2020.date, trump_totals_2020.n, color='lightblue', label=\"All Tweets\")\n",
    "\n",
    "# Overlay a count of the misinformation tweets (the fake_merged variable) in a different color\n",
    "plt.bar(\n",
    "    trump_totals_2020.date,\n",
    "    trump_totals_2020.fake_merged,\n",
    "    color='magenta',\n",
    "    alpha=0.75,\n",
    "    label=\"Misinformation\" # whatever string you put here will go into the legend\n",
    ")\n",
    "plt.legend()"
   ]
  },
  {
   "cell_type": "markdown",
   "metadata": {
    "id": "vV3zYuuT_bIn"
   },
   "source": [
    "---\n",
    "\n",
    "## Excersise 3: Posts by Deplatformed Users 🤐 ... 🤐\n",
    "\n",
    "### **Example 3:** Plotting posts by suspended accounts\n",
    "Let's now look at posts over time by accounts that were eventually suspended during the Deplatforming window January 6th - January 12th 2021."
   ]
  },
  {
   "cell_type": "code",
   "execution_count": 69,
   "metadata": {
    "id": "PiuNUOrr7Ty9"
   },
   "outputs": [],
   "source": [
    "# Subset the dataframe to just suspended accounts\n",
    "# Looking at total counts of posts, not averages\n",
    "suspended = df[\n",
    "    (df['group'] == 'suspended') &\n",
    "    (df['stat'] == \"total\")\n",
    "].copy().sort_values('date')"
   ]
  },
  {
   "cell_type": "code",
   "execution_count": 70,
   "metadata": {
    "colab": {
     "base_uri": "https://localhost:8080/",
     "height": 262
    },
    "executionInfo": {
     "elapsed": 194,
     "status": "ok",
     "timestamp": 1722379484056,
     "user": {
      "displayName": "William D Thompson",
      "userId": "16532926386286142479"
     },
     "user_tz": 420
    },
    "id": "sem1J6cZ0TRp",
    "outputId": "5f0e3390-0fd7-4c93-ddf0-d6a3605106da"
   },
   "outputs": [
    {
     "data": {
      "text/html": [
       "<div>\n",
       "<style scoped>\n",
       "    .dataframe tbody tr th:only-of-type {\n",
       "        vertical-align: middle;\n",
       "    }\n",
       "\n",
       "    .dataframe tbody tr th {\n",
       "        vertical-align: top;\n",
       "    }\n",
       "\n",
       "    .dataframe thead th {\n",
       "        text-align: right;\n",
       "    }\n",
       "</style>\n",
       "<table border=\"1\" class=\"dataframe\">\n",
       "  <thead>\n",
       "    <tr style=\"text-align: right;\">\n",
       "      <th></th>\n",
       "      <th>date</th>\n",
       "      <th>fake_merged</th>\n",
       "      <th>fake_merged_initiation</th>\n",
       "      <th>fake_merged_rt</th>\n",
       "      <th>fake_grinberg_initiation</th>\n",
       "      <th>fake_grinberg_rt</th>\n",
       "      <th>fake_grinberg_rb_initiation</th>\n",
       "      <th>fake_grinberg_rb_rt</th>\n",
       "      <th>fake_newsguard_initiation</th>\n",
       "      <th>fake_newsguard_rt</th>\n",
       "      <th>...</th>\n",
       "      <th>not_fake_shopping</th>\n",
       "      <th>not_fake_shopping_initiation</th>\n",
       "      <th>not_fake_shopping_rt</th>\n",
       "      <th>not_fake_sports</th>\n",
       "      <th>not_fake_sports_initiation</th>\n",
       "      <th>not_fake_sports_rt</th>\n",
       "      <th>n</th>\n",
       "      <th>stat</th>\n",
       "      <th>nusers</th>\n",
       "      <th>group</th>\n",
       "    </tr>\n",
       "  </thead>\n",
       "  <tbody>\n",
       "    <tr>\n",
       "      <th>13810</th>\n",
       "      <td>2021-04-30</td>\n",
       "      <td>1.0</td>\n",
       "      <td>0.0</td>\n",
       "      <td>1.0</td>\n",
       "      <td>0.0</td>\n",
       "      <td>1.0</td>\n",
       "      <td>0.0</td>\n",
       "      <td>1.0</td>\n",
       "      <td>0.0</td>\n",
       "      <td>1.0</td>\n",
       "      <td>...</td>\n",
       "      <td>0.0</td>\n",
       "      <td>0.0</td>\n",
       "      <td>0.0</td>\n",
       "      <td>0.0</td>\n",
       "      <td>0.0</td>\n",
       "      <td>0.0</td>\n",
       "      <td>48.0</td>\n",
       "      <td>total</td>\n",
       "      <td>9</td>\n",
       "      <td>suspended</td>\n",
       "    </tr>\n",
       "    <tr>\n",
       "      <th>514</th>\n",
       "      <td>2020-02-24</td>\n",
       "      <td>1278.0</td>\n",
       "      <td>135.0</td>\n",
       "      <td>1143.0</td>\n",
       "      <td>64.0</td>\n",
       "      <td>474.0</td>\n",
       "      <td>45.0</td>\n",
       "      <td>283.0</td>\n",
       "      <td>125.0</td>\n",
       "      <td>1050.0</td>\n",
       "      <td>...</td>\n",
       "      <td>29.0</td>\n",
       "      <td>0.0</td>\n",
       "      <td>29.0</td>\n",
       "      <td>2.0</td>\n",
       "      <td>1.0</td>\n",
       "      <td>1.0</td>\n",
       "      <td>5623.0</td>\n",
       "      <td>total</td>\n",
       "      <td>446</td>\n",
       "      <td>suspended</td>\n",
       "    </tr>\n",
       "    <tr>\n",
       "      <th>13824</th>\n",
       "      <td>2021-02-02</td>\n",
       "      <td>0.0</td>\n",
       "      <td>0.0</td>\n",
       "      <td>0.0</td>\n",
       "      <td>0.0</td>\n",
       "      <td>0.0</td>\n",
       "      <td>0.0</td>\n",
       "      <td>0.0</td>\n",
       "      <td>0.0</td>\n",
       "      <td>0.0</td>\n",
       "      <td>...</td>\n",
       "      <td>0.0</td>\n",
       "      <td>0.0</td>\n",
       "      <td>0.0</td>\n",
       "      <td>0.0</td>\n",
       "      <td>0.0</td>\n",
       "      <td>0.0</td>\n",
       "      <td>16.0</td>\n",
       "      <td>total</td>\n",
       "      <td>2</td>\n",
       "      <td>suspended</td>\n",
       "    </tr>\n",
       "  </tbody>\n",
       "</table>\n",
       "<p>3 rows × 29 columns</p>\n",
       "</div>"
      ],
      "text/plain": [
       "            date  fake_merged  fake_merged_initiation  fake_merged_rt  \\\n",
       "13810 2021-04-30          1.0                     0.0             1.0   \n",
       "514   2020-02-24       1278.0                   135.0          1143.0   \n",
       "13824 2021-02-02          0.0                     0.0             0.0   \n",
       "\n",
       "       fake_grinberg_initiation  fake_grinberg_rt  \\\n",
       "13810                       0.0               1.0   \n",
       "514                        64.0             474.0   \n",
       "13824                       0.0               0.0   \n",
       "\n",
       "       fake_grinberg_rb_initiation  fake_grinberg_rb_rt  \\\n",
       "13810                          0.0                  1.0   \n",
       "514                           45.0                283.0   \n",
       "13824                          0.0                  0.0   \n",
       "\n",
       "       fake_newsguard_initiation  fake_newsguard_rt  ...  not_fake_shopping  \\\n",
       "13810                        0.0                1.0  ...                0.0   \n",
       "514                        125.0             1050.0  ...               29.0   \n",
       "13824                        0.0                0.0  ...                0.0   \n",
       "\n",
       "       not_fake_shopping_initiation  not_fake_shopping_rt  not_fake_sports  \\\n",
       "13810                           0.0                   0.0              0.0   \n",
       "514                             0.0                  29.0              2.0   \n",
       "13824                           0.0                   0.0              0.0   \n",
       "\n",
       "       not_fake_sports_initiation  not_fake_sports_rt       n   stat  nusers  \\\n",
       "13810                         0.0                 0.0    48.0  total       9   \n",
       "514                           1.0                 1.0  5623.0  total     446   \n",
       "13824                         0.0                 0.0    16.0  total       2   \n",
       "\n",
       "           group  \n",
       "13810  suspended  \n",
       "514    suspended  \n",
       "13824  suspended  \n",
       "\n",
       "[3 rows x 29 columns]"
      ]
     },
     "execution_count": 70,
     "metadata": {},
     "output_type": "execute_result"
    }
   ],
   "source": [
    "suspended.sample(n=3)"
   ]
  },
  {
   "cell_type": "code",
   "execution_count": 85,
   "metadata": {
    "colab": {
     "base_uri": "https://localhost:8080/",
     "height": 231
    },
    "executionInfo": {
     "elapsed": 779,
     "status": "ok",
     "timestamp": 1722379279323,
     "user": {
      "displayName": "William D Thompson",
      "userId": "16532926386286142479"
     },
     "user_tz": 420
    },
    "id": "5WbE_QdgwuQ7",
    "outputId": "771b04f3-0e07-4d10-c49e-f9ee1e71e129"
   },
   "outputs": [
    {
     "data": {
      "text/plain": [
       "<matplotlib.legend.Legend at 0x1170f0220>"
      ]
     },
     "execution_count": 85,
     "metadata": {},
     "output_type": "execute_result"
    },
    {
     "data": {
      "image/png": "[encoded data removed]",
      "text/plain": [
       "<Figure size 1600x200 with 1 Axes>"
      ]
     },
     "metadata": {},
     "output_type": "display_data"
    }
   ],
   "source": [
    "plt.figure(figsize=(16, 2))\n",
    "\n",
    "# plot post counts over time for accounts that were eventually Deplatformed\n",
    "plt.plot(suspended.date, suspended.n)\n",
    "\n",
    "# Specify a datetime object for the start of the suspension period\n",
    "suspension_start = pd.to_datetime('2021-01-06')\n",
    "\n",
    "# Specify a datetime object for the end of the suspension period\n",
    "suspension_end = pd.to_datetime('2021-01-12')\n",
    "\n",
    "# Plot vertical lines at the start and end of the suspension period\n",
    "plt.axvline(suspension_start, color='r', linestyle='--', label='Suspension Starts (January 6th 2021)')\n",
    "plt.axvline(suspension_end, color='g', linestyle='--', label='Suspension Ends (January 12th 2021)')\n",
    "plt.legend()"
   ]
  },
  {
   "cell_type": "markdown",
   "metadata": {
    "id": "-WOUlWxrz2bj"
   },
   "source": [
    "So the deplatforming event has a clear signature in the counts of posts made by users over time. On this figure, the number of posts appears to go to zero. But is that actually what happenned? Did deplatformed accounts start posting again after the suspension window?"
   ]
  },
  {
   "cell_type": "markdown",
   "metadata": {
    "id": "zsaKYTCW0GrL"
   },
   "source": [
    "### **Challenge 3:** Examine posts by Deplatformed users after January 12th 2021\n",
    "\n",
    "1. How many posts were made by suspended accounts after the suspension period ended?\n",
    "2. Did Trump followers also stop posting during and after the suspension period? Or did they post even more? Plot the posting trends for Trump followers surrounding the suspension period if you didn't already do this in challenge 2."
   ]
  },
  {
   "cell_type": "code",
   "execution_count": 146,
   "metadata": {
    "id": "klpPEH4__z12"
   },
   "outputs": [
    {
     "name": "stdout",
     "output_type": "stream",
     "text": [
      "4103.0\n"
     ]
    },
    {
     "data": {
      "text/plain": [
       "<matplotlib.legend.Legend at 0x1196487f0>"
      ]
     },
     "execution_count": 146,
     "metadata": {},
     "output_type": "execute_result"
    },
    {
     "data": {
      "image/png": "[encoded data removed]",
      "text/plain": [
       "<Figure size 1600x200 with 1 Axes>"
      ]
     },
     "metadata": {},
     "output_type": "display_data"
    }
   ],
   "source": [
    "## Your answers to Challenge 3 begin here.\n",
    "## Add text or code cells as you need.\n",
    "\n",
    "suspended_posts = suspended.n[suspended.date >= \"2021-01-12\"].sum()\n",
    "print(suspended_posts)\n",
    "\n",
    "plt.figure(figsize=(16, 2))\n",
    "\n",
    "trump_totals_after = trump_totals[trump_totals.date >= \"2021-01-06\"]\n",
    "\n",
    "plt.plot(trump_totals_after.date, trump_totals_after.nusers, color=\"#f54295\")\n",
    "\n",
    "plt.axvline(suspension_start, color='r', linestyle='--', label='Suspension Starts (January 6th 2021)')\n",
    "plt.axvline(suspension_end, color='g', linestyle='--', label='Suspension Ends (January 12th 2021)')\n",
    "plt.legend()"
   ]
  },
  {
   "cell_type": "markdown",
   "metadata": {
    "id": "Fff2LSLVRXnZ"
   },
   "source": [
    "---\n",
    "\n",
    "## **Bonus** Exercise: Misinformation Sharing\n",
    "Here's a bonus exercise that you are welcome to work through if you feel comfortable with the exercises above. This exercise is more advanced and the material here is above the required skill level. \n",
    "\n",
    "Let's look at sharing patterns for regular content and misinformation. First we will look at total posting rates in 2021 by accounts that were (`fns`) or were not (`nfns`) tagged as misinformation sharers. Then you will look at differnt measures of misnformaton.\n",
    "\n",
    "### **Bonus Example:** Using Seaborn's FacetGrid to explore sharing of misinformation in 2021"
   ]
  },
  {
   "cell_type": "code",
   "execution_count": 80,
   "metadata": {
    "id": "nmeZHs38RcOd"
   },
   "outputs": [],
   "source": [
    "# Here we're just looking at 2021\n",
    "earliest_date = pd.to_datetime('2021-01-01')\n",
    "\n",
    "# subset to just two groups\n",
    "misinformation_subset = df[(\n",
    "    (df['group'].isin(['fns', 'nfns'])) & # just misinfo sharerers (fns) and no misinfo sharers (nfsn)\n",
    "    (df['stat'] == \"total\") & # just look at total tweets\n",
    "    (df.date >= earliest_date) # just look at 2021 onwards\n",
    ")].copy()"
   ]
  },
  {
   "cell_type": "markdown",
   "metadata": {},
   "source": [
    "In the code above, we've used the `isin` method to subset the data to just the `fns` and `nfns` groups. The `isin` method can be applied any Pandas data Series. it accepts a list of values as an argument, and returns truth values indicating whether each value in the column is contained within the list.\n",
    "\n",
    "This has created a dataset (`misinformation_subset`) that we can use to compare information sharing between the two groups. We can plot the misinformation sharing patterns for these groups using [Seaborn](https://seaborn.pydata.org/)/. Seaborn is an excellent statistical data visualization library. \n",
    "\n",
    "One of the most useful functionalities provided by seaborn is the [FacetGrid object](https://seaborn.pydata.org/generated/seaborn.FacetGrid.html). A FacetGrid allows you to automatically plot data broken down by groups on the same plot. Below, we first create a FacetGrid object using the `misinformation_subset` dataframe, specifying the `group` variable as the distinction to be made alone the rows of the plot.\n",
    "\n",
    "After creating the FacetGrid object, we can map plotting functions onto the object, so that the plotting function will be applied seperately to the differnet groups. Here, we apply the `plt.bar` plotting function, passing the `date` and `fake_merged` variable names as arguments to be used for plotting the x and y axes respectively. "
   ]
  },
  {
   "cell_type": "code",
   "execution_count": 82,
   "metadata": {
    "colab": {
     "base_uri": "https://localhost:8080/",
     "height": 423
    },
    "executionInfo": {
     "elapsed": 2052,
     "status": "ok",
     "timestamp": 1722380806674,
     "user": {
      "displayName": "William D Thompson",
      "userId": "16532926386286142479"
     },
     "user_tz": 420
    },
    "id": "dc6kUmANWv_b",
    "outputId": "cc20bf9b-836d-495a-d4f7-8f0476aceeac"
   },
   "outputs": [
    {
     "name": "stderr",
     "output_type": "stream",
     "text": [
      "Exception ignored in: <bound method IPythonKernel._clean_thread_parent_frames of <ipykernel.ipkernel.IPythonKernel object at 0x107feb790>>\n",
      "Traceback (most recent call last):\n",
      "  File \"/Users/chris/Library/Python/3.9/lib/python/site-packages/ipykernel/ipkernel.py\", line 775, in _clean_thread_parent_frames\n",
      "    def _clean_thread_parent_frames(\n",
      "KeyboardInterrupt: \n"
     ]
    },
    {
     "data": {
      "text/plain": [
       "<matplotlib.legend.Legend at 0x116c21520>"
      ]
     },
     "execution_count": 82,
     "metadata": {},
     "output_type": "execute_result"
    },
    {
     "data": {
      "image/png": "[encoded data removed]",
      "text/plain": [
       "<Figure size 1400x400 with 2 Axes>"
      ]
     },
     "metadata": {},
     "output_type": "display_data"
    }
   ],
   "source": [
    "import seaborn as sns\n",
    "\n",
    "# Use seaborn's FacetGrid to plot misninformation sharing seperately for the two groups\n",
    "# Here we are putting groups on the rows and specifying wide plots\n",
    "# but you can also use columns, or a combination of rows and columns\n",
    "g = sns.FacetGrid(data=misinformation_subset, row='group', aspect=7, height=2)\n",
    "\n",
    "# Map the matplotlib plotting function plt.bar onto the FacetGrid\n",
    "g.map(plt.bar, 'date', 'fake_merged', color='lightblue', label=\"Number of Misinformation posts shared\")\n",
    "\n",
    "# add a legend\n",
    "plt.legend()"
   ]
  },
  {
   "cell_type": "markdown",
   "metadata": {
    "id": "lmhbFnXocJkm"
   },
   "source": [
    "### **Bonus Challenge:** Sharing patterns for regular information\n",
    "\n",
    "Clearly the patterns of sharing behavior for misinformation will differ between users udentified as Misinformation Sharers (`group == \"fns\"`) and users who have not shared misinformation (`group == \"nfns\"`). But do these groups also differ in their sharing patterns for regular information?\n",
    "\n",
    "Choose one or more of the following `not_fake_...` categories, and compare sharing behavior between Misinformation Sharers and non Misinformation Sharers for those categories.\n",
    "\n",
    "* `not_fake_rt`\n",
    "* `not_fake_conservative`\n",
    "\n",
    "* `not_fake_conservative_initiation`\n",
    "* `not_fake_conservative_rt`\n",
    "\n",
    "* `not_fake_liberal`\n",
    "* `not_fake_liberal_initiation`\n",
    "\n",
    "* `not_fake_liberal_rt`\n",
    "* `not_fake_shopping`\n",
    "\n",
    "* `not_fake_shopping_initiation`\n",
    "* `not_fake_shopping_rt`\n",
    "\n",
    "* `not_fake_sports`\n",
    "* `not_fake_sports_initiation`\n",
    "* `not_fake_sports_rt`"
   ]
  },
  {
   "cell_type": "code",
   "execution_count": 90,
   "metadata": {
    "id": "KLIoX5OzSnf7"
   },
   "outputs": [
    {
     "data": {
      "text/plain": [
       "<matplotlib.legend.Legend at 0x117131580>"
      ]
     },
     "execution_count": 90,
     "metadata": {},
     "output_type": "execute_result"
    },
    {
     "data": {
      "image/png": "[encoded data removed]",
      "text/plain": [
       "<Figure size 1400x400 with 2 Axes>"
      ]
     },
     "metadata": {},
     "output_type": "display_data"
    }
   ],
   "source": [
    "earliest_date = pd.to_datetime('2021-01-01')\n",
    "\n",
    "# subset to just two groups\n",
    "misinformation_subset = df[(\n",
    "    (df['group'].isin(['fns', 'nfns'])) & # just misinfo sharerers (fns) and no misinfo sharers (nfsn)\n",
    "    (df['stat'] == \"total\") & # just look at total tweets\n",
    "    (df.date >= earliest_date) # just look at 2021 onwards\n",
    ")].copy()\n",
    "\n",
    "import seaborn as sns\n",
    "\n",
    "# Use seaborn's FacetGrid to plot misninformation sharing seperately for the two groups\n",
    "# Here we are putting groups on the rows and specifying wide plots\n",
    "# but you can also use columns, or a combination of rows and columns\n",
    "g2 = sns.FacetGrid(data=misinformation_subset, row='group', aspect=7, height=2)\n",
    "\n",
    "# Map the matplotlib plotting function plt.bar onto the FacetGrid\n",
    "g2.map(plt.bar, 'date', 'not_fake_shopping', color='lightblue', label=\"Number of Misinformation posts shared\")\n",
    "\n",
    "# add a legend\n",
    "plt.legend()"
   ]
  },
  {
   "cell_type": "code",
   "execution_count": 149,
   "metadata": {},
   "outputs": [
    {
     "data": {
      "text/plain": [
       "[<matplotlib.lines.Line2D at 0x11a499bb0>]"
      ]
     },
     "execution_count": 149,
     "metadata": {},
     "output_type": "execute_result"
    },
    {
     "data": {
      "image/png": "[encoded data removed]",
      "text/plain": [
       "<Figure size 1600x200 with 1 Axes>"
      ]
     },
     "metadata": {},
     "output_type": "display_data"
    }
   ],
   "source": [
    "after_12 = suspended[(suspended.date > '2021-01-10')]\n",
    "\n",
    "plt.figure(figsize=(16, 2))\n",
    "\n",
    "# plot post counts over time for accounts that were eventually Deplatformed\n",
    "plt.plot(after_12.date, after_12.n)"
   ]
  }
 ],
 "metadata": {
  "colab": {
   "authorship_tag": "ABX9TyMjKKvsXWGfVMJTH0rE3JRo",
   "provenance": []
  },
  "kernelspec": {
   "display_name": "Python 3 (ipykernel)",
   "language": "python",
   "name": "python3"
  },
  "language_info": {
   "codemirror_mode": {
    "name": "ipython",
    "version": 3
   },
   "file_extension": ".py",
   "mimetype": "text/x-python",
   "name": "python",
   "nbconvert_exporter": "python",
   "pygments_lexer": "ipython3",
   "version": "3.9.7"
  }
 },
 "nbformat": 4,
 "nbformat_minor": 4
}
