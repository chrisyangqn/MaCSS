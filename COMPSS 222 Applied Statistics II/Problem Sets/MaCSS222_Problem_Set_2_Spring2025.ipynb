{
 "cells": [
  {
   "cell_type": "markdown",
   "id": "7d9897c3",
   "metadata": {},
   "source": [
    "# Problem Set 2\n",
    "_MaCSS 222 Applied Statistics II_\n",
    "_Spring 2025_\n",
    "\n",
    "This Problem Set will, like the first problem set utilize an extract from the 1997 cohort of the National Longitudinal Survey of Youth (NLSY97). This Notebook is designed to help you get started. Serving as a stub for your own solutions, completing the problem set will involve adding code and commentary to this notebook. Narrative answers to questions posed in the Problem Set can be included in markdown boxes in this notebook. For \"pencil and paper\" calculations you can either hand-write your answers and turn in a pdf-scan of them along with your Python Jupyter Notebook, or you can write you answers in LaTex in markdown boxes. Please see the pdf file for Problem Set 1 for instructions.\n",
    "<br>\n",
    "<br>\n",
    "If you are not already familiar with LaTex, I encourage you to learn the basics. Overleaf is a helpful online editing environment for LaTex which you can access as a UC Berkeley community member.\n",
    "<br>\n",
    "<br>\n",
    "The goals of this particular problem set are two fold. First, to review the basics of logistic regression analysis. Second, to gain practice using the boostrap in more complicated settings -- settings where traditional (i.e., analytic) methods of confidence interval and standard error construction are not possible."
   ]
  },
  {
   "cell_type": "code",
   "execution_count": 1,
   "id": "97df37a4",
   "metadata": {},
   "outputs": [],
   "source": [
    "# Load libraries\n",
    "import numpy as np\n",
    "import pandas as pd\n",
    "import scipy as sp\n",
    "import matplotlib.pyplot as plt\n",
    "import seaborn as sns"
   ]
  },
  {
   "cell_type": "markdown",
   "id": "8a9d9ef8",
   "metadata": {},
   "source": [
    "## Part I: Load NLSY97 extract"
   ]
  },
  {
   "cell_type": "code",
   "execution_count": 2,
   "id": "f12b81cf",
   "metadata": {},
   "outputs": [
    {
     "data": {
      "text/html": [
       "<div>\n",
       "<style scoped>\n",
       "    .dataframe tbody tr th:only-of-type {\n",
       "        vertical-align: middle;\n",
       "    }\n",
       "\n",
       "    .dataframe tbody tr th {\n",
       "        vertical-align: top;\n",
       "    }\n",
       "\n",
       "    .dataframe thead th {\n",
       "        text-align: right;\n",
       "    }\n",
       "</style>\n",
       "<table border=\"1\" class=\"dataframe\">\n",
       "  <thead>\n",
       "    <tr style=\"text-align: right;\">\n",
       "      <th></th>\n",
       "      <th>hhid97</th>\n",
       "      <th>pid97</th>\n",
       "      <th>swgt</th>\n",
       "      <th>cs_smpl</th>\n",
       "      <th>earnings</th>\n",
       "      <th>yrssch</th>\n",
       "      <th>asvab</th>\n",
       "      <th>female</th>\n",
       "      <th>black</th>\n",
       "      <th>hispanic</th>\n",
       "      <th>birth_month</th>\n",
       "      <th>birth_year</th>\n",
       "    </tr>\n",
       "  </thead>\n",
       "  <tbody>\n",
       "    <tr>\n",
       "      <th>0</th>\n",
       "      <td>2</td>\n",
       "      <td>2</td>\n",
       "      <td>272178</td>\n",
       "      <td>1</td>\n",
       "      <td>140764.964069</td>\n",
       "      <td>14.0</td>\n",
       "      <td>58.483</td>\n",
       "      <td>0</td>\n",
       "      <td>0</td>\n",
       "      <td>1</td>\n",
       "      <td>July</td>\n",
       "      <td>1982</td>\n",
       "    </tr>\n",
       "    <tr>\n",
       "      <th>1</th>\n",
       "      <td>3</td>\n",
       "      <td>3</td>\n",
       "      <td>169357</td>\n",
       "      <td>1</td>\n",
       "      <td>34487.266323</td>\n",
       "      <td>14.0</td>\n",
       "      <td>27.978</td>\n",
       "      <td>1</td>\n",
       "      <td>0</td>\n",
       "      <td>1</td>\n",
       "      <td>September</td>\n",
       "      <td>1983</td>\n",
       "    </tr>\n",
       "    <tr>\n",
       "      <th>2</th>\n",
       "      <td>4</td>\n",
       "      <td>4</td>\n",
       "      <td>149099</td>\n",
       "      <td>1</td>\n",
       "      <td>45864.738658</td>\n",
       "      <td>13.0</td>\n",
       "      <td>37.012</td>\n",
       "      <td>1</td>\n",
       "      <td>0</td>\n",
       "      <td>1</td>\n",
       "      <td>February</td>\n",
       "      <td>1981</td>\n",
       "    </tr>\n",
       "    <tr>\n",
       "      <th>3</th>\n",
       "      <td>8</td>\n",
       "      <td>6</td>\n",
       "      <td>218371</td>\n",
       "      <td>1</td>\n",
       "      <td>23202.102210</td>\n",
       "      <td>14.0</td>\n",
       "      <td>22.001</td>\n",
       "      <td>1</td>\n",
       "      <td>0</td>\n",
       "      <td>1</td>\n",
       "      <td>January</td>\n",
       "      <td>1982</td>\n",
       "    </tr>\n",
       "    <tr>\n",
       "      <th>4</th>\n",
       "      <td>8</td>\n",
       "      <td>7</td>\n",
       "      <td>232055</td>\n",
       "      <td>1</td>\n",
       "      <td>0.000000</td>\n",
       "      <td>12.0</td>\n",
       "      <td>3.585</td>\n",
       "      <td>0</td>\n",
       "      <td>0</td>\n",
       "      <td>1</td>\n",
       "      <td>April</td>\n",
       "      <td>1983</td>\n",
       "    </tr>\n",
       "  </tbody>\n",
       "</table>\n",
       "</div>"
      ],
      "text/plain": [
       "   hhid97  pid97    swgt  cs_smpl       earnings  yrssch   asvab  female  \\\n",
       "0       2      2  272178        1  140764.964069    14.0  58.483       0   \n",
       "1       3      3  169357        1   34487.266323    14.0  27.978       1   \n",
       "2       4      4  149099        1   45864.738658    13.0  37.012       1   \n",
       "3       8      6  218371        1   23202.102210    14.0  22.001       1   \n",
       "4       8      7  232055        1       0.000000    12.0   3.585       0   \n",
       "\n",
       "   black  hispanic birth_month  birth_year  \n",
       "0      0         1        July        1982  \n",
       "1      0         1   September        1983  \n",
       "2      0         1    February        1981  \n",
       "3      0         1     January        1982  \n",
       "4      0         1       April        1983  "
      ]
     },
     "execution_count": 2,
     "metadata": {},
     "output_type": "execute_result"
    }
   ],
   "source": [
    "# Directory where NLSY97 teaching extract file is located\n",
    "data =  '/Users/chris/Library/Mobile Documents/com~apple~CloudDocs/Berkeley/COMPSS 222 Applied Statistics II/Data/'\n",
    "\n",
    "# Directory to save graphics files in\n",
    "graphics = '/Users/chris/Library/Mobile Documents/com~apple~CloudDocs/Berkeley/COMPSS 222 Applied Statistics II/Graphics/'\n",
    "\n",
    "# Load NLSY97 dataset\n",
    "nlsy97 = pd.read_csv(data+'nlsy97ss.csv') # Reading .csv as DataFrame\n",
    "\n",
    "# Rename some columns and then form new dataframe with complete cases for key variables\n",
    "nlsy97.rename(columns={'avg_earn_2016_to_2020': 'earnings', 'hgc_at_age28': 'yrssch'}, inplace=True)\n",
    "\n",
    "# Look at first few rows of dataset\n",
    "nlsy97[0:5]"
   ]
  },
  {
   "cell_type": "markdown",
   "id": "8a5aff70",
   "metadata": {},
   "source": [
    "## Part II: Predicting college attendance among those who have completed high school\n",
    "\n",
    "We are interested in building a simple model for whether an individual completes a 4-year college degree or not. Since a pre-requisite for attending college is complete high school, we will confine our analysis to the subset of NLSY97 respondents who have completed high school. "
   ]
  },
  {
   "cell_type": "markdown",
   "id": "1ce58726",
   "metadata": {},
   "source": [
    "### 1.1 Data Cleaning"
   ]
  },
  {
   "cell_type": "code",
   "execution_count": 5,
   "id": "29b3d124",
   "metadata": {},
   "outputs": [],
   "source": [
    "# Find subset of respondents who completed high school; drop any remaining units with item non-response\n",
    "nlsy97 = nlsy97[(nlsy97['yrssch']>=12)]\n",
    "nlsy97 = nlsy97.dropna()\n",
    "\n",
    "# Create dummy variable for completion of a 4-year degree (by age 28)\n",
    "nlsy97['college'] = 1*(nlsy97['yrssch']>=16)"
   ]
  },
  {
   "cell_type": "markdown",
   "id": "120ef9ec",
   "metadata": {},
   "source": [
    "### 1.2 Quintiles"
   ]
  },
  {
   "cell_type": "markdown",
   "id": "6b25ab16",
   "metadata": {},
   "source": [
    "The pandas \"cuts\" command (used above), in conjunction with pandas \"crosstab\" command (used below), is very useful for explorating data analysis. Below we see that the [Armed Services Vocational Aptitude Battery (ASVAB)](https://nationalguard.com/practice-asvab) is highly predictive of college attendance. Among NLSY97 high school graduates, those with top-quartile asvab scores attended college at a rate of 65 percent, while those with bottom-quartile scores attend at a rate of 9 percent."
   ]
  },
  {
   "cell_type": "code",
   "execution_count": 6,
   "id": "826c44d5",
   "metadata": {},
   "outputs": [
    {
     "data": {
      "text/html": [
       "<div>\n",
       "<style scoped>\n",
       "    .dataframe tbody tr th:only-of-type {\n",
       "        vertical-align: middle;\n",
       "    }\n",
       "\n",
       "    .dataframe tbody tr th {\n",
       "        vertical-align: top;\n",
       "    }\n",
       "\n",
       "    .dataframe thead th {\n",
       "        text-align: right;\n",
       "    }\n",
       "</style>\n",
       "<table border=\"1\" class=\"dataframe\">\n",
       "  <thead>\n",
       "    <tr style=\"text-align: right;\">\n",
       "      <th>asvab_level</th>\n",
       "      <th>asvab_Q1</th>\n",
       "      <th>asvab_Q2</th>\n",
       "      <th>asvab_Q3</th>\n",
       "      <th>asvab_Q4</th>\n",
       "      <th>asvab_Q5</th>\n",
       "      <th>All</th>\n",
       "    </tr>\n",
       "    <tr>\n",
       "      <th>college</th>\n",
       "      <th></th>\n",
       "      <th></th>\n",
       "      <th></th>\n",
       "      <th></th>\n",
       "      <th></th>\n",
       "      <th></th>\n",
       "    </tr>\n",
       "  </thead>\n",
       "  <tbody>\n",
       "    <tr>\n",
       "      <th>0</th>\n",
       "      <td>0.930683</td>\n",
       "      <td>0.812099</td>\n",
       "      <td>0.683633</td>\n",
       "      <td>0.522954</td>\n",
       "      <td>0.309623</td>\n",
       "      <td>0.656598</td>\n",
       "    </tr>\n",
       "    <tr>\n",
       "      <th>1</th>\n",
       "      <td>0.069317</td>\n",
       "      <td>0.187901</td>\n",
       "      <td>0.316367</td>\n",
       "      <td>0.477046</td>\n",
       "      <td>0.690377</td>\n",
       "      <td>0.343402</td>\n",
       "    </tr>\n",
       "  </tbody>\n",
       "</table>\n",
       "</div>"
      ],
      "text/plain": [
       "asvab_level  asvab_Q1  asvab_Q2  asvab_Q3  asvab_Q4  asvab_Q5       All\n",
       "college                                                                \n",
       "0            0.930683  0.812099  0.683633  0.522954  0.309623  0.656598\n",
       "1            0.069317  0.187901  0.316367  0.477046  0.690377  0.343402"
      ]
     },
     "execution_count": 6,
     "metadata": {},
     "output_type": "execute_result"
    }
   ],
   "source": [
    "# Create asvab test score bins\n",
    "# Define bins and labels\n",
    "bins = [0, 20, 40, 60, 80, 100]\n",
    "labels = ['asvab_Q1', 'asvab_Q2', 'asvab_Q3', 'asvab_Q4', 'asvab_Q5']\n",
    "nlsy97['asvab_level'] = pd.cut(nlsy97['asvab'], bins=bins, labels=labels, right=False)\n",
    "\n",
    "# Add constant to the dataframe\n",
    "nlsy97['intercept']=1\n",
    "\n",
    "# College attendance by asvab quartile\n",
    "pd.crosstab(nlsy97['college'], nlsy97['asvab_level'], normalize='columns', margins=True)"
   ]
  },
  {
   "cell_type": "markdown",
   "id": "bbdec894",
   "metadata": {},
   "source": [
    "Discuss this cross-tab? \n",
    "* The table presents the relationship between ASVAB scores (divided into quintiles) and college completion rates.\n",
    "* Each column represents a different ASVAB score range, while the rows show the proportion of individuals who did (college = 1) or did not (college = 0) complete a 4-year college degree.\n",
    "* The overall trend suggests that individuals with higher ASVAB scores are more likely to complete college.\n",
    "\n",
    "How does the frequency of college completion vary across sub-populations with diﬀerent asvab scores? \n",
    "* College completion rates increase as ASVAB scores rise.\n",
    "* In ASVAB Q1 (lowest 20%), only 6.9% completed college, whereas in ASVAB Q5 (highest 20%), 69.0% completed college.\n",
    "* The likelihood of college completion is significantly lower for individuals with low ASVAB scores, suggesting a strong correlation between cognitive ability and higher education success.\n",
    "\n",
    "How does the distribution of asvab scores diﬀer across college and non-college graduates?\n",
    "* Among non-college graduates (college = 0), the majority have lower ASVAB scores, with 93.1% in Q1 and 81.2% in Q2 not completing college.\n",
    "* Among college graduates (college = 1), higher ASVAB scores are more common, with 69.0% in Q5 and 47.7% in Q4.\n",
    "* This indicates that individuals with higher ASVAB scores are not only more likely to complete college but also make up a larger proportion of the college-educated population."
   ]
  },
  {
   "cell_type": "markdown",
   "id": "dcf16dee",
   "metadata": {},
   "source": [
    "### 1.3 Logistic Regression"
   ]
  },
  {
   "cell_type": "markdown",
   "id": "8e90a92a",
   "metadata": {},
   "source": [
    "Next we fit a simple logistic regression model for college attendance with gender, race and asvab score as predictors. Note the values of the \"solver\" and \"penality\" parameters in the sklearn LogisticRegression call. This is a textbook implementation."
   ]
  },
  {
   "cell_type": "markdown",
   "id": "3efc51b2",
   "metadata": {},
   "source": [
    "The confusion matrix provides a simple measure of in sample prediction accuracy. We can also construct such a matrix for prediction accuracy in a hold-out sample."
   ]
  },
  {
   "cell_type": "code",
   "execution_count": 10,
   "id": "2170f2aa",
   "metadata": {},
   "outputs": [
    {
     "name": "stdout",
     "output_type": "stream",
     "text": [
      "Logistic Regression Results for College Attendence\n",
      "\n",
      "           Coefficient\n",
      "intercept    -3.039104\n",
      "female        0.451547\n",
      "black         0.004648\n",
      "hispanic     -0.186052\n",
      "asvab         0.040294\n",
      "Confusion Matrix\n",
      "\n",
      "             College (Pred)  High School (Pred)\n",
      "College                2787                 517\n",
      "High School             793                 935\n"
     ]
    }
   ],
   "source": [
    "from sklearn.linear_model import LogisticRegression\n",
    "from sklearn.metrics import confusion_matrix\n",
    "\n",
    "X = nlsy97[['intercept', 'female', 'black', 'hispanic', 'asvab']]\n",
    "Y = nlsy97['college']\n",
    "\n",
    "model = LogisticRegression(solver='newton-cg', penalty=None, fit_intercept=False).fit(X,Y)\n",
    "model.coef_\n",
    "\n",
    "# Construct and display confusion matrix\n",
    "results = pd.DataFrame(model.coef_.reshape((-1,1)), index=X.columns.values, columns=['Coefficient'])\n",
    "\n",
    "\n",
    "# Display full regression summary\n",
    "print(\"Logistic Regression Results for College Attendence\")\n",
    "print(\"\")\n",
    "print(results)\n",
    "\n",
    "matrix = confusion_matrix(nlsy97['college'], model.predict(X))\n",
    "\n",
    "# Row and column labels\n",
    "row_labels = ['College', 'High School']\n",
    "col_labels = ['College (Pred)', 'High School (Pred)']\n",
    "\n",
    "# Construct and display confusion matrix\n",
    "matrix = pd.DataFrame(matrix, index=row_labels, columns=col_labels)\n",
    "print(\"Confusion Matrix\")\n",
    "print(\"\")\n",
    "print(matrix)"
   ]
  },
  {
   "cell_type": "markdown",
   "id": "e25a84dd",
   "metadata": {},
   "source": [
    "## Part III: Bootstrap inference on average partial effect (APE) of Asvab percentile score"
   ]
  },
  {
   "cell_type": "markdown",
   "id": "a3e9f8b2",
   "metadata": {},
   "source": [
    "Our next task is to use our logit results to construct average partial (or average marginal) effect estimates. We will then use the bootstrap to construct confidence intervals and standard errors for them. For a general model the logit choice probability equals:\n",
    "$$\n",
    "\\Pr\\left(\\left.Y=1\\right.X=x\\right)=\\frac{\\exp\\left(x'\\gamma\\right)}{1+\\exp\\left(x'\\gamma\\right)}=\\frac{\\exp\\left(\\alpha+\\beta_{1}x_{1}+\\cdots+\\beta_{K}x_{K}\\right)}{1+\\exp\\left(\\alpha+\\beta_{1}x_{1}+\\cdots+\\beta_{K}x_{K}\\right)},\n",
    "$$\n",
    "The effect of an incremental increase in $X_k$, the k-th regressor, on the conditional probability that $Y=1$ equals:\n",
    "$$\n",
    "\\frac{\\partial\\Pr\\left(\\left.Y=1\\right.X=x\\right)}{\\partial x_{k}}=\\frac{\\exp\\left(\\alpha+\\beta_{1}x_{1}+\\cdots+\\beta_{K}x_{K}\\right)}{1+\\exp\\left(\\alpha+\\beta_{1}x_{1}+\\cdots+\\beta_{K}x_{K}\\right)}\\beta_{k}.\n",
    "$$\n",
    "This expression is a function of $x$. To get a summary measure we average over the marginal distribution of $X$ to get:\n",
    "$$\n",
    "\\delta_{k}^{\\mathrm{APE}}=\\mathbb{E}_{X}\\left[\\frac{\\partial\\Pr\\left(\\left.Y=1\\right.X\\right)}{\\partial X_{k}}\\right]=\\mathbb{E}_{X}\\left[\\frac{\\exp\\left(\\alpha+\\beta_{1}X_{1}+\\cdots+\\beta_{K}X_{K}\\right)}{1+\\exp\\left(\\alpha+\\beta_{1}X_{1}+\\cdots+\\beta_{K}X_{K}\\right)}\\beta_{k}\\right].\n",
    "$$\n",
    "We can estimate this object by replacing the unknown logit coefficients with our maximum likelihood estimates and the expectation over the marginal distribution of $X$ with the sample average. This yields:\n",
    "$$\n",
    "\\hat{\\delta}_{k}^{\\mathrm{APE}}=\\frac{1}{N}\\sum_{i=1}^{N}\\frac{\\exp\\left(\\hat{\\alpha}+\\hat{\\beta}_{1}X_{i1}+\\cdots+\\hat{\\beta}_{K}X_{iK}\\right)}{1+\\exp\\left(\\hat{\\alpha}+\\hat{\\beta}_{1}X_{i1}+\\cdots+\\hat{\\beta}_{K}X_{iK}\\right)}\\hat{\\beta}_{k}.\n",
    "$$\n",
    "The code below constructs this estimate and uses the boostrap to calculate a confidence interval for $\\delta_{k}^{\\mathrm{APE}}$ and a standard error for $\\hat{\\delta}_{k}^{\\mathrm{APE}}$."
   ]
  },
  {
   "cell_type": "markdown",
   "id": "1b6f2609",
   "metadata": {},
   "source": [
    "### 1.4 Conﬁdence Intervals"
   ]
  },
  {
   "cell_type": "code",
   "execution_count": 22,
   "id": "09260908",
   "metadata": {},
   "outputs": [
    {
     "name": "stdout",
     "output_type": "stream",
     "text": [
      "\n",
      "Logit estimate of the average partial effect of 1-unit increase asvab percentile: 0.0071\n",
      "\n",
      "       Asvab logit coef  Asvab APE\n",
      "0.025          0.037394   0.006824\n",
      "0.975          0.043140   0.007281\n",
      "\n",
      "A basic percentile boostrap confidence interval for asvab APE is: 0.006824 to 0.007281\n",
      "\n",
      "A reverse percentile boostrap confidence interval for asvab APE is: 0.006823 to 0.007281\n"
     ]
    }
   ],
   "source": [
    "S = 1000                 # Number of bootstrap samples\n",
    "M = np.empty((S,2))      # Matrix with posterior draws of statistics of interest\n",
    "N = len(Y)               # Number of observations in dataset\n",
    "\n",
    "# Compute average partial effect of asvab score using observed sample-in-hand\n",
    "Xb = X @ model.coef_.T                                                      # Compute linear index\n",
    "ape_hat_asvab = np.mean((np.exp(Xb)/(1+np.exp(Xb))**2)*model.coef_[0,-1])   # Compute APE estimate\n",
    "\n",
    "print(\"\")\n",
    "print(f\"Logit estimate of the average partial effect of 1-unit increase asvab percentile: {ape_hat_asvab:.4f}\")\n",
    "\n",
    "# Perform s=1,...,S bootstrap simulations    \n",
    "for s in range (0,S):\n",
    "    sth_sample = nlsy97.sample(n=N, replace=True)  # Take bth bootstrap sample\n",
    "    X = sth_sample[['intercept', 'female', 'black', 'hispanic', 'asvab']]\n",
    "    Y = sth_sample['college']\n",
    "    model_s = LogisticRegression(solver='newton-cg', penalty=None, fit_intercept=False).fit(X,Y)\n",
    "    M[s,0] = model_s.coef_[0,-1]                                        # Save coef. on asvab  \n",
    "    Xs = X @ model_s.coef_.T                                            # Compute linear index\n",
    "    M[s,1] = np.mean((np.exp(Xs)/(1+np.exp(Xs))**2)*model.coef_[0,-1])  # sth bootstrap APE estimate \n",
    "    \n",
    "# Save Efron Bootstrap result in a dataframe\n",
    "EB=pd.DataFrame({'Asvab logit coef':M[:,0], 'Asvab APE':M[:,1]})\n",
    "\n",
    "alpha = 0.05                                                            # target size\n",
    "\n",
    "print(\"\")\n",
    "print(EB.quantile([alpha/2, 1-alpha/2]))\n",
    "\n",
    "# Construct percentile and reverse percentile confidence intervals\n",
    "lower_bnd = EB.quantile([alpha/2, 1-alpha/2]).iloc[(0,1)]\n",
    "upper_bnd = EB.quantile([alpha/2, 1-alpha/2]).iloc[(1,1)]\n",
    "print(\"\")\n",
    "print(f'A basic percentile boostrap confidence interval for asvab APE is: {lower_bnd:.6f} to {upper_bnd:.6f}')\n",
    "\n",
    "lower_bnd_rev = 2 * ape_hat_asvab - upper_bnd\n",
    "upper_bnd_rev = 2 * ape_hat_asvab - lower_bnd\n",
    "print(\"\")\n",
    "print(f'A reverse percentile boostrap confidence interval for asvab APE is: {lower_bnd_rev:.6f} to {upper_bnd_rev:.6f}')"
   ]
  },
  {
   "cell_type": "markdown",
   "id": "27450624",
   "metadata": {},
   "source": [
    "### 1.5 Standard Error"
   ]
  },
  {
   "cell_type": "code",
   "execution_count": 23,
   "id": "58103167",
   "metadata": {},
   "outputs": [
    {
     "name": "stdout",
     "output_type": "stream",
     "text": [
      "Standard error (from percentile interval): 0.000117\n",
      "Standard error (from reverse percentile interval): 0.000117\n"
     ]
    },
    {
     "data": {
      "image/png": "[encoded data removed]",
      "text/plain": [
       "<Figure size 700x700 with 3 Axes>"
      ]
     },
     "metadata": {},
     "output_type": "display_data"
    }
   ],
   "source": [
    "# Construct bootstrap standard error using the percentile interval\n",
    "norm_ref = sp.stats.norm(loc=0, scale=1)                         # Standard normal reference distribution\n",
    "se_ape = (upper_bnd-lower_bnd)/(norm_ref.ppf(1-alpha/2)-norm_ref.ppf(alpha/2))\n",
    "print(f'Standard error (from percentile interval): {se_ape:.6f}')\n",
    "\n",
    "# Construct bootstrap standard error using the reverse percentile interval\n",
    "se_ape_rev = (upper_bnd_rev-lower_bnd_rev)/(norm_ref.ppf(1-alpha/2)-norm_ref.ppf(alpha/2))\n",
    "print(f'Standard error (from reverse percentile interval): {se_ape_rev:.6f}')\n",
    "\n",
    "# Scatter (use seaborn add-on to matplotlib)\n",
    "sns.set_style(\"dark\", {'axes.linewidth': 2, 'axes.edgecolor':'black'})\n",
    "sns.jointplot(x=\"Asvab logit coef\",y=\"Asvab APE\", data=EB, kind=\"scatter\", \\\n",
    "              height=7, space=0.35, color=\"#003262\", xlim=(0.0325,0.0475), ylim=(0.0065,0.0075), marker='+',\n",
    "              marginal_ticks=True, marginal_kws=dict(bins=30, fill=True, color='#FDB515', linewidth=1))\n",
    "\n",
    "# Save the figure\n",
    "plt.savefig(graphics + 'Figure_Reverse Percentile_Bootstrap_Asvab_APE.png', dpi=300, bbox_inches='tight')\n",
    "plt.show()    "
   ]
  },
  {
   "cell_type": "markdown",
   "id": "bebd2aa9",
   "metadata": {},
   "source": [
    "### 1.6 All Coefficients"
   ]
  },
  {
   "cell_type": "code",
   "execution_count": 27,
   "id": "18b7f5ed",
   "metadata": {},
   "outputs": [
    {
     "data": {
      "text/html": [
       "<div>\n",
       "<style scoped>\n",
       "    .dataframe tbody tr th:only-of-type {\n",
       "        vertical-align: middle;\n",
       "    }\n",
       "\n",
       "    .dataframe tbody tr th {\n",
       "        vertical-align: top;\n",
       "    }\n",
       "\n",
       "    .dataframe thead th {\n",
       "        text-align: right;\n",
       "    }\n",
       "</style>\n",
       "<table border=\"1\" class=\"dataframe\">\n",
       "  <thead>\n",
       "    <tr style=\"text-align: right;\">\n",
       "      <th></th>\n",
       "      <th>Coefficient</th>\n",
       "      <th>Bootstrap SE</th>\n",
       "      <th>Reverse Bootstrap SE</th>\n",
       "    </tr>\n",
       "  </thead>\n",
       "  <tbody>\n",
       "    <tr>\n",
       "      <th>Intercept</th>\n",
       "      <td>-3.039104</td>\n",
       "      <td>0.111998</td>\n",
       "      <td>0.111998</td>\n",
       "    </tr>\n",
       "    <tr>\n",
       "      <th>Female</th>\n",
       "      <td>0.451547</td>\n",
       "      <td>0.068369</td>\n",
       "      <td>0.068369</td>\n",
       "    </tr>\n",
       "    <tr>\n",
       "      <th>Black</th>\n",
       "      <td>0.004648</td>\n",
       "      <td>0.091203</td>\n",
       "      <td>0.091203</td>\n",
       "    </tr>\n",
       "    <tr>\n",
       "      <th>Hispanic</th>\n",
       "      <td>-0.186052</td>\n",
       "      <td>0.102379</td>\n",
       "      <td>0.102379</td>\n",
       "    </tr>\n",
       "    <tr>\n",
       "      <th>ASVAB</th>\n",
       "      <td>0.040294</td>\n",
       "      <td>0.001522</td>\n",
       "      <td>0.001522</td>\n",
       "    </tr>\n",
       "  </tbody>\n",
       "</table>\n",
       "</div>"
      ],
      "text/plain": [
       "           Coefficient  Bootstrap SE  Reverse Bootstrap SE\n",
       "Intercept    -3.039104      0.111998              0.111998\n",
       "Female        0.451547      0.068369              0.068369\n",
       "Black         0.004648      0.091203              0.091203\n",
       "Hispanic     -0.186052      0.102379              0.102379\n",
       "ASVAB         0.040294      0.001522              0.001522"
      ]
     },
     "execution_count": 27,
     "metadata": {},
     "output_type": "execute_result"
    }
   ],
   "source": [
    "# Prepare storage for bootstrap results (5 coefficients: intercept, female, black, hispanic, asvab)\n",
    "M = np.empty((S, 5))\n",
    "\n",
    "# Perform bootstrap sampling\n",
    "for s in range(S):\n",
    "    sth_sample = nlsy97.sample(n=N, replace=True)  # Bootstrap resampling\n",
    "    X_s = sth_sample[['intercept', 'female', 'black', 'hispanic', 'asvab']]\n",
    "    Y_s = sth_sample['college']\n",
    "    \n",
    "    # Fit logistic regression model on bootstrap sample\n",
    "    model_s = LogisticRegression(solver='newton-cg', penalty=None, fit_intercept=False).fit(X_s, Y_s)\n",
    "    M[s, :] = model_s.coef_[0]  # Store all coefficients\n",
    "\n",
    "# Save bootstrap results into a DataFrame\n",
    "EB = pd.DataFrame(M, columns=['Intercept', 'Female', 'Black', 'Hispanic', 'ASVAB'])\n",
    "\n",
    "# Compute percentile-based confidence intervals\n",
    "bootstrap_ci = np.percentile(M, [alpha/2 * 100, (1 - alpha/2) * 100], axis=0)\n",
    "\n",
    "# Compute bootstrap standard errors\n",
    "se_bootstrap = (bootstrap_ci[1] - bootstrap_ci[0]) / (norm_ref.ppf(1 - alpha/2) - norm_ref.ppf(alpha/2))\n",
    "\n",
    "# Construct percentile confidence interval for ASVAB APE\n",
    "lower_bnd, upper_bnd = EB[\"ASVAB\"].quantile([alpha/2, 1-alpha/2])\n",
    "\n",
    "# Compute Reverse Bootstrap SE for each coefficient separately\n",
    "reverse_lower_bnd = 2 * model.coef_[0] - bootstrap_ci[1]\n",
    "reverse_upper_bnd = 2 * model.coef_[0] - bootstrap_ci[0]\n",
    "\n",
    "se_bootstrap_rev = (reverse_upper_bnd - reverse_lower_bnd) / (norm_ref.ppf(1 - alpha/2) - norm_ref.ppf(alpha/2))\n",
    "\n",
    "# Create results DataFrame with coefficients and standard errors\n",
    "results_df = pd.DataFrame({\n",
    "    \"Coefficient\": model.coef_[0],\n",
    "    \"Bootstrap SE\": se_bootstrap,\n",
    "    \"Reverse Bootstrap SE\": se_bootstrap_rev\n",
    "}, index=['Intercept', 'Female', 'Black', 'Hispanic', 'ASVAB'])\n",
    "\n",
    "results_df"
   ]
  },
  {
   "cell_type": "markdown",
   "id": "d623d5b5",
   "metadata": {},
   "source": [
    "The bootstrap standard error is derived by estimating the variability of the coefficient estimates using repeated resampling. The percentile method constructs a $ (1 - \\alpha) \\times 100 \\% $ confidence interval for $ \\beta_k $ by taking the empirical quantiles of the bootstrap estimates. \n",
    "\n",
    "Given a confidence interval $ [\\beta_k^{\\text{lower}}, \\beta_k^{\\text{upper}}] $, we can work **in reverse** to estimate the standard error $ \\text{se}(\\hat{\\beta_k}) $. The relationship between the confidence interval and standard error follows from the normal approximation:\n",
    "\n",
    "$$\n",
    "\\beta_k^{\\text{upper}} = \\hat{\\beta_k} + Z_{\\alpha/2} \\cdot \\text{se}(\\hat{\\beta_k})\n",
    "$$\n",
    "\n",
    "$$\n",
    "\\beta_k^{\\text{lower}} = \\hat{\\beta_k} - Z_{\\alpha/2} \\cdot \\text{se}(\\hat{\\beta_k})\n",
    "$$\n",
    "\n",
    "Rearranging this equation, the standard error can be expressed as:\n",
    "\n",
    "$$\n",
    "\\text{se}(\\hat{\\beta_k}) = \\frac{\\beta_k^{\\text{upper}} - \\beta_k^{\\text{lower}}}{2 Z_{\\alpha/2}}\n",
    "$$\n",
    "\n",
    "Since we **already computed the confidence interval from the bootstrap distribution**, we can use this equation to extract the corresponding standard error. The **reverse percentile method** follows the same logic but reflects the confidence interval around the estimated coefficient, ensuring that the computed variability remains consistent. \n",
    "\n",
    "Thus, this method is valid because it leverages the estimated distribution of $ \\beta_k $ from the bootstrap, mimicking the standard normal confidence interval calculation but using resampled data instead of theoretical assumptions."
   ]
  },
  {
   "cell_type": "markdown",
   "id": "4052b68f",
   "metadata": {},
   "source": [
    "### 1.7 Deriviate Expression"
   ]
  },
  {
   "cell_type": "markdown",
   "id": "b098ee55",
   "metadata": {},
   "source": [
    "**Verification of the Derivative Expression**\n",
    "\n",
    "The probability of $Y = 1$ given $X$ in a logistic regression model is:\n",
    "\n",
    "$$\n",
    "\\Pr(Y = 1 | X = x) = \\frac{\\exp(\\alpha + \\sum_{j} \\beta_j x_j)}{1 + \\exp(\\alpha + \\sum_{j} \\beta_j x_j)}\n",
    "$$\n",
    "\n",
    "Taking the derivative with respect to $x_k$:\n",
    "\n",
    "$$\n",
    "\\frac{\\partial \\Pr(Y = 1 | X = x)}{\\partial x_k} =\n",
    "\\left( \\frac{\\exp(\\alpha + \\sum \\beta_j x_j)}{1 + \\exp(\\alpha + \\sum \\beta_j x_j)} \\right)\n",
    "\\left( 1 - \\frac{\\exp(\\alpha + \\sum \\beta_j x_j)}{1 + \\exp(\\alpha + \\sum \\beta_j x_j)} \\right) \\beta_k\n",
    "$$\n",
    "\n",
    "Using the property of the logistic function:\n",
    "\n",
    "$$\n",
    "\\frac{\\exp(z)}{1+\\exp(z)} = p, 1-p = \\frac{1}{1+\\exp(z)}\n",
    "$$\n",
    "\n",
    "Rewrite as:\n",
    "\n",
    "$$\n",
    "\\frac{\\partial p}{\\partial x_k} = p(1-p)\\beta_k\n",
    "$$\n",
    "\n",
    "Therefore:\n",
    "\n",
    "$$\n",
    "\\frac{\\partial p}{\\partial x_k} = \\frac{\\exp(\\alpha + \\sum \\beta_j x_j)}{1 + \\exp(\\alpha + \\sum \\beta_j x_j)}\\beta_k\n",
    "$$\n",
    "\n",
    "---"
   ]
  },
  {
   "cell_type": "markdown",
   "id": "f59fcc5f",
   "metadata": {},
   "source": [
    "**Derivative Interpretation**\n",
    "\n",
    "The term  \n",
    "$$\n",
    "\\frac{\\partial \\Pr(Y = 1 | X)}{\\partial X_k}\n",
    "$$  \n",
    "represents the **marginal effect** of a unit increase in $ X_k $ on the probability of $ Y = 1 $ for a given value of $ X $. It shows how much the predicted probability of the outcome changes when we increase $ X_k $ by one unit.\n",
    "\n",
    "**Expectation Over $ X $**\n",
    "\n",
    "Instead of evaluating the derivative at a specific $ X $, we take its **expected value over the distribution of $ X $**:\n",
    "$$\n",
    "\\delta_k^{APE} = \\mathbb{E}_X \\left[ \\frac{\\partial \\Pr(Y = 1 | X)}{\\partial X_k} \\right]\n",
    "$$\n",
    "This provides an **average effect across all individuals in the population**, rather than just at a single $ X $. Taking the expectation over $ X $ results in:\n",
    "$$\n",
    "\\delta_k^{APE} = \\mathbb{E}_X \\left[ \\frac{\\exp(\\alpha + \\sum_{j} \\beta_j X_j)}{1 + \\exp(\\alpha + \\sum_{j} \\beta_j X_j)} \\beta_k \\right]\n",
    "$$\n",
    "\n",
    "---\n",
    "\n",
    "**Why Do We Need to Average Over $ X $?**\n",
    "\n",
    "- The effect of $ X_k $ is **not constant** across individuals because the logistic function is nonlinear.\n",
    "- The marginal effect of $ X_k $ depends on the value of $ X $, meaning that for some individuals, the impact might be larger or smaller.\n",
    "- By averaging over $ X $, we obtain a **population-level summary measure** of how $ X_k $ influences the probability of $ Y = 1 $.\n",
    "- This is useful in empirical analysis where we want to report a single interpretable effect rather than a function of $ X $.\n",
    "\n",
    "Thus, the **APE provides a meaningful summary of how $ X_k $ affects $ Y $ on average across the population**.\n"
   ]
  },
  {
   "cell_type": "markdown",
   "id": "78c85ae6",
   "metadata": {},
   "source": [
    "### 1.8 Estimate APE"
   ]
  },
  {
   "cell_type": "code",
   "execution_count": 28,
   "id": "bb48a006",
   "metadata": {},
   "outputs": [
    {
     "name": "stdout",
     "output_type": "stream",
     "text": [
      "Estimated APE of ASVAB on College: 0.007057\n",
      "Bootstrap 95% Confidence Interval for APE: 0.006702 to 0.007407\n",
      "Bootstrap Standard Error for APE: 0.000181\n"
     ]
    }
   ],
   "source": [
    "# Compute APE estimate for ASVAB\n",
    "Xb = X @ model.coef_.T  # Compute linear index\n",
    "ape_hat_asvab = np.mean((np.exp(Xb) / (1 + np.exp(Xb))**2) * model.coef_[0, -1])\n",
    "\n",
    "print(f\"Estimated APE of ASVAB on College: {ape_hat_asvab:.6f}\")\n",
    "\n",
    "# Bootstrap estimation\n",
    "S = 1000  # Number of bootstrap samples\n",
    "M = np.empty(S)  # Store bootstrap APE estimates\n",
    "N = len(Y)  # Number of observations\n",
    "\n",
    "for s in range(S):\n",
    "    # Bootstrap resampling\n",
    "    boot_sample = nlsy97.sample(n=N, replace=True)\n",
    "    X_boot = boot_sample[['intercept', 'female', 'black', 'hispanic', 'asvab']]\n",
    "    Y_boot = boot_sample['college']\n",
    "\n",
    "    # Fit new logistic regression\n",
    "    model_boot = LogisticRegression(solver='newton-cg', penalty=None, fit_intercept=False).fit(X_boot, Y_boot)\n",
    "    \n",
    "    # Compute APE for bootstrap sample\n",
    "    Xb_boot = X_boot @ model_boot.coef_.T\n",
    "    M[s] = np.mean((np.exp(Xb_boot) / (1 + np.exp(Xb_boot))**2) * model_boot.coef_[0, -1])\n",
    "\n",
    "# Compute 95% Confidence Interval\n",
    "alpha = 0.05\n",
    "lower_bnd, upper_bnd = np.percentile(M, [100 * (alpha / 2), 100 * (1 - alpha / 2)])\n",
    "\n",
    "# Compute Bootstrap Standard Error\n",
    "se_ape = np.std(M, ddof=1)\n",
    "\n",
    "print(f\"Bootstrap 95% Confidence Interval for APE: {lower_bnd:.6f} to {upper_bnd:.6f}\")\n",
    "print(f\"Bootstrap Standard Error for APE: {se_ape:.6f}\")"
   ]
  },
  {
   "cell_type": "markdown",
   "id": "e1cf58ee",
   "metadata": {},
   "source": [
    "### 1.9 Case Study"
   ]
  },
  {
   "cell_type": "markdown",
   "id": "4f6c0632",
   "metadata": {},
   "source": [
    "**Understanding the Two Measures of Effect on College Completion**\n",
    "\n",
    "The two measures proposed for estimating the effect of the **college readiness program** are:\n",
    "\n",
    "1. **First Measure:**\n",
    "   $$\n",
    "   \\gamma_1^{CR} = \\mathbb{E}_X \\left[ \\frac{\\exp(\\alpha + \\beta_1 X_1 + \\dots + \\beta_K X_K)}{1 + \\exp(\\alpha + \\beta_1 X_1 + \\dots + \\beta_K X_K)} \\beta_k \\right] \\times 10\n",
    "   $$\n",
    "\n",
    "   - This approach estimates the **Average Partial Effect (APE)** and then **multiplies it by 10**, assuming a **linear approximation** for small changes in \\( X_K \\).\n",
    "   - It applies the **marginal effect estimate** to the entire population.\n",
    "\n",
    "2. **Second Measure:**\n",
    "   $$\n",
    "   \\gamma_2^{CR} = \\mathbb{E}_X \\left[ \\frac{\\exp(\\alpha + \\beta_1 X_1 + \\dots + \\beta_K (X_K + 10))}{1 + \\exp(\\alpha + \\beta_1 X_1 + \\dots + \\beta_K (X_K + 10))} \\right] - \\mathbb{E}_X \\left[ \\frac{\\exp(\\alpha + \\beta_1 X_1 + \\dots + \\beta_K X_K)}{1 + \\exp(\\alpha + \\beta_1 X_1 + \\dots + \\beta_K X_K)} \\right]\n",
    "   $$\n",
    "\n",
    "   - This approach **explicitly shifts** \\( X_K \\) by 10 for each individual before computing the expected probability of college completion.\n",
    "   - The difference between the **new probability** and the **old probability** gives the predicted effect of the policy change."
   ]
  },
  {
   "cell_type": "code",
   "execution_count": 29,
   "id": "4aaaf341",
   "metadata": {},
   "outputs": [
    {
     "name": "stdout",
     "output_type": "stream",
     "text": [
      "γ1_CR Estimate: 0.070568, 95% CI: (0.066867, 0.073960), SE: 0.001826\n",
      "γ2_CR Estimate: 0.072763, 95% CI: (0.069005, 0.076310), SE: 0.001861\n"
     ]
    }
   ],
   "source": [
    "# First Measure (γ1_CR)\n",
    "gamma_1_cr = ape_hat_asvab * 10  # Uses previously computed APE and scales by 10\n",
    "\n",
    "# Second Measure (γ2_CR)\n",
    "Xb_shifted = (X @ model.coef_.T) + 10 * model.coef_[0, -1]  # Shift ASVAB by 10\n",
    "gamma_2_cr = np.mean(np.exp(Xb_shifted) / (1 + np.exp(Xb_shifted))) - np.mean(np.exp(Xb) / (1 + np.exp(Xb)))\n",
    "\n",
    "# Bootstrap Confidence Intervals\n",
    "S = 1000\n",
    "M1, M2 = np.empty(S), np.empty(S)\n",
    "\n",
    "for s in range(S):\n",
    "    boot_sample = nlsy97.sample(n=N, replace=True)\n",
    "    X_boot = boot_sample[['intercept', 'female', 'black', 'hispanic', 'asvab']]\n",
    "    Y_boot = boot_sample['college']\n",
    "    \n",
    "    model_boot = LogisticRegression(solver='newton-cg', penalty=None, fit_intercept=False).fit(X_boot, Y_boot)\n",
    "    \n",
    "    Xb_boot = X_boot @ model_boot.coef_.T\n",
    "    ape_boot = np.mean((np.exp(Xb_boot) / (1 + np.exp(Xb_boot))**2) * model_boot.coef_[0, -1])\n",
    "\n",
    "    M1[s] = ape_boot * 10  # γ1_CR bootstrap\n",
    "    Xb_boot_shifted = Xb_boot + 10 * model_boot.coef_[0, -1]\n",
    "    M2[s] = np.mean(np.exp(Xb_boot_shifted) / (1 + np.exp(Xb_boot_shifted))) - np.mean(np.exp(Xb_boot) / (1 + np.exp(Xb_boot)))\n",
    "\n",
    "# Confidence Intervals\n",
    "lower1, upper1 = np.percentile(M1, [2.5, 97.5])\n",
    "lower2, upper2 = np.percentile(M2, [2.5, 97.5])\n",
    "\n",
    "# Standard Errors\n",
    "se_γ1 = np.std(M1, ddof=1)\n",
    "se_γ2 = np.std(M2, ddof=1)\n",
    "\n",
    "# Print Results\n",
    "print(f\"γ1_CR Estimate: {gamma_1_cr:.6f}, 95% CI: ({lower1:.6f}, {upper1:.6f}), SE: {se_γ1:.6f}\")\n",
    "print(f\"γ2_CR Estimate: {gamma_2_cr:.6f}, 95% CI: ({lower2:.6f}, {upper2:.6f}), SE: {se_γ2:.6f}\")"
   ]
  },
  {
   "cell_type": "markdown",
   "id": "62740ca0",
   "metadata": {},
   "source": [
    "**Do They Differ?**\n",
    "* Yes, the difference is **small but noticeable**, suggesting that the choice of method matters when estimating the effect of the policy.\n",
    "\n",
    "**Why Do They Differ?**\n",
    "1. **Nonlinearity of the Logistic Function**  \n",
    "   - $ \\gamma_1^{CR} $ assumes that the effect of increasing ASVAB is **constant** across individuals and uses the **marginal effect approximation**.  \n",
    "   - $ \\gamma_2^{CR} $ directly **computes the probability change** after shifting ASVAB by 10 points, capturing the **nonlinearity** of the probability function.  \n",
    "   - Since the logistic function is **sigmoid-shaped**, the marginal effect is **not constant**, which explains why $ \\gamma_2^{CR} $ is slightly larger than $ \\gamma_1^{CR} $.\n",
    "2. **Effect of Large Changes in ASVAB**  \n",
    "   - $ \\gamma_1^{CR} $ **multiplies the average partial effect (APE) by 10**, assuming a **linear extrapolation**.  \n",
    "   - $ \\gamma_2^{CR} $ accounts for **how probability changes when ASVAB is actually shifted by 10**, allowing a **more flexible** estimation.\n",
    "\n",
    "**Potential Issues with These Estimates**\n",
    "1. **Omitted Variable Bias and Indirect Effects**  \n",
    "   - Both estimates assume that **only ASVAB changes** and that this **directly** affects college completion.  \n",
    "   - In reality, increasing ASVAB may be associated with **other unobserved factors**, such as **increased motivation, better school support, or socioeconomic changes**, which these models do not capture.\n",
    "2. **Extrapolation Bias**  \n",
    "   - $ \\gamma_1^{CR} $ assumes that multiplying by 10 correctly scales the effect, but this may not hold for larger ASVAB changes.  \n",
    "   - $ \\gamma_2^{CR} $ better accounts for nonlinear effects, but it **still assumes that all else remains constant**, which may not be true in reality.\n",
    "\n",
    "**Conclusion**\n",
    "* $ \\gamma_2^{CR} $ is **likely a better estimate** because it captures nonlinear effects, but both approaches have limitations.  \n",
    "* A **causal analysis** (e.g., using instrumental variables or experimental data) would be **more reliable** than a simple regression model for predicting policy impacts.\n"
   ]
  },
  {
   "cell_type": "markdown",
   "id": "11e6ecbf",
   "metadata": {},
   "source": [
    "## Part IV: Assessing 'balance'"
   ]
  },
  {
   "cell_type": "markdown",
   "id": "454ccd99",
   "metadata": {},
   "source": [
    "This final snippet of code constructs a so-called propensity score balance plot. Plots like this one will feature in our discussion of program evaluation and covariate adjustment later in the semester. Note the use of the official [UC Berkeley color pallete](https://brand.berkeley.edu/visual-identity/colors/) in the plot!"
   ]
  },
  {
   "cell_type": "code",
   "execution_count": 21,
   "id": "f46f32c4",
   "metadata": {},
   "outputs": [],
   "source": [
    "X = nlsy97[['intercept', 'female', 'black', 'hispanic', 'asvab']]\n",
    "Y = nlsy97['college']\n",
    "\n",
    "model = LogisticRegression(solver='newton-cg', penalty=None, fit_intercept=False).fit(X,Y)\n",
    "model.coef_\n",
    "\n",
    "nlsy97['pscore'] = model.predict_proba(X)[:,1] # col 0 gives Pr(Y=0|X),  col 1 gives Pr(Y=1|X)\n",
    "ps_bins = [0, 0.1, 0.2, 0.3, 0.4, 0.5, 0.6, 0.7, 0.8, 0.9, 1]\n",
    "labels = ['ps_D01', 'ps_D02', 'ps_D03','ps_D04','ps_D05','ps_D06','ps_D07','ps_D08','ps_D09','ps_D10']\n",
    "nlsy97['ps_level'] = pd.cut(nlsy97['pscore'], bins=ps_bins, labels=labels, right=False)"
   ]
  },
  {
   "cell_type": "code",
   "execution_count": 22,
   "id": "3eff0592",
   "metadata": {},
   "outputs": [
    {
     "data": {
      "text/html": [
       "<div>\n",
       "<style scoped>\n",
       "    .dataframe tbody tr th:only-of-type {\n",
       "        vertical-align: middle;\n",
       "    }\n",
       "\n",
       "    .dataframe tbody tr th {\n",
       "        vertical-align: top;\n",
       "    }\n",
       "\n",
       "    .dataframe thead th {\n",
       "        text-align: right;\n",
       "    }\n",
       "</style>\n",
       "<table border=\"1\" class=\"dataframe\">\n",
       "  <thead>\n",
       "    <tr style=\"text-align: right;\">\n",
       "      <th>ps_level</th>\n",
       "      <th>ps_D01</th>\n",
       "      <th>ps_D02</th>\n",
       "      <th>ps_D03</th>\n",
       "      <th>ps_D04</th>\n",
       "      <th>ps_D05</th>\n",
       "      <th>ps_D06</th>\n",
       "      <th>ps_D07</th>\n",
       "      <th>ps_D08</th>\n",
       "      <th>ps_D09</th>\n",
       "      <th>All</th>\n",
       "    </tr>\n",
       "    <tr>\n",
       "      <th>college</th>\n",
       "      <th></th>\n",
       "      <th></th>\n",
       "      <th></th>\n",
       "      <th></th>\n",
       "      <th></th>\n",
       "      <th></th>\n",
       "      <th></th>\n",
       "      <th></th>\n",
       "      <th></th>\n",
       "      <th></th>\n",
       "    </tr>\n",
       "  </thead>\n",
       "  <tbody>\n",
       "    <tr>\n",
       "      <th>0</th>\n",
       "      <td>0.148258</td>\n",
       "      <td>0.175574</td>\n",
       "      <td>0.099565</td>\n",
       "      <td>0.069477</td>\n",
       "      <td>0.057799</td>\n",
       "      <td>0.045724</td>\n",
       "      <td>0.036421</td>\n",
       "      <td>0.019794</td>\n",
       "      <td>0.001584</td>\n",
       "      <td>0.654196</td>\n",
       "    </tr>\n",
       "    <tr>\n",
       "      <th>1</th>\n",
       "      <td>0.010293</td>\n",
       "      <td>0.032858</td>\n",
       "      <td>0.035629</td>\n",
       "      <td>0.035629</td>\n",
       "      <td>0.041568</td>\n",
       "      <td>0.054632</td>\n",
       "      <td>0.068488</td>\n",
       "      <td>0.060768</td>\n",
       "      <td>0.005938</td>\n",
       "      <td>0.345804</td>\n",
       "    </tr>\n",
       "    <tr>\n",
       "      <th>All</th>\n",
       "      <td>0.158551</td>\n",
       "      <td>0.208432</td>\n",
       "      <td>0.135194</td>\n",
       "      <td>0.105107</td>\n",
       "      <td>0.099367</td>\n",
       "      <td>0.100356</td>\n",
       "      <td>0.104909</td>\n",
       "      <td>0.080562</td>\n",
       "      <td>0.007522</td>\n",
       "      <td>1.000000</td>\n",
       "    </tr>\n",
       "  </tbody>\n",
       "</table>\n",
       "</div>"
      ],
      "text/plain": [
       "ps_level    ps_D01    ps_D02    ps_D03    ps_D04    ps_D05    ps_D06  \\\n",
       "college                                                                \n",
       "0         0.148258  0.175574  0.099565  0.069477  0.057799  0.045724   \n",
       "1         0.010293  0.032858  0.035629  0.035629  0.041568  0.054632   \n",
       "All       0.158551  0.208432  0.135194  0.105107  0.099367  0.100356   \n",
       "\n",
       "ps_level    ps_D07    ps_D08    ps_D09       All  \n",
       "college                                           \n",
       "0         0.036421  0.019794  0.001584  0.654196  \n",
       "1         0.068488  0.060768  0.005938  0.345804  \n",
       "All       0.104909  0.080562  0.007522  1.000000  "
      ]
     },
     "execution_count": 22,
     "metadata": {},
     "output_type": "execute_result"
    }
   ],
   "source": [
    "pd.crosstab(nlsy97['college'], nlsy97['ps_level'], normalize=True, margins=True)"
   ]
  },
  {
   "cell_type": "code",
   "execution_count": 23,
   "id": "173d825b",
   "metadata": {},
   "outputs": [
    {
     "data": {
      "image/png": "[encoded data removed]",
      "text/plain": [
       "<Figure size 640x480 with 1 Axes>"
      ]
     },
     "metadata": {},
     "output_type": "display_data"
    }
   ],
   "source": [
    "# Create propensity score balance figure\n",
    "fig, ax = plt.subplots()\n",
    "\n",
    "# Plot the histograms\n",
    "ax.hist(nlsy97['pscore'].loc[(nlsy97['college'] == 0)], bins=ps_bins, alpha=0.5, label='High School', color='#003262')\n",
    "ax.hist(nlsy97['pscore'].loc[(nlsy97['college'] == 1)], bins=ps_bins, alpha=0.5, label='College', color='#FDB515')\n",
    "\n",
    "# Add labels and title\n",
    "ax.set_xlabel('Propensity Score')\n",
    "ax.set_ylabel('Number of Observations')\n",
    "ax.set_title('Balancing Plot')\n",
    "\n",
    "# Add legend\n",
    "ax.legend()\n",
    "\n",
    "# Show the plot\n",
    "plt.show()"
   ]
  }
 ],
 "metadata": {
  "kernelspec": {
   "display_name": "Python 3",
   "language": "python",
   "name": "python3"
  },
  "language_info": {
   "codemirror_mode": {
    "name": "ipython",
    "version": 3
   },
   "file_extension": ".py",
   "mimetype": "text/x-python",
   "name": "python",
   "nbconvert_exporter": "python",
   "pygments_lexer": "ipython3",
   "version": "3.9.7"
  }
 },
 "nbformat": 4,
 "nbformat_minor": 5
}
